{
  "cells": [
    {
      "cell_type": "markdown",
      "metadata": {
        "id": "view-in-github",
        "colab_type": "text"
      },
      "source": [
        "<a href=\"https://colab.research.google.com/github/lorylei/Cognitive-science-project/blob/main/seq2seq_julius_version_attention.ipynb\" target=\"_parent\"><img src=\"https://colab.research.google.com/assets/colab-badge.svg\" alt=\"Open In Colab\"/></a>"
      ]
    },
    {
      "cell_type": "code",
      "execution_count": 1,
      "metadata": {
        "colab": {
          "base_uri": "https://localhost:8080/"
        },
        "id": "ydhkmfr7tPgk",
        "outputId": "fb3d2a7a-29c7-4d08-ba61-4439be46fb6a"
      },
      "outputs": [
        {
          "output_type": "stream",
          "name": "stdout",
          "text": [
            "Mounted at /content/drive\n",
            "/content/drive/MyDrive\n"
          ]
        }
      ],
      "source": [
        "from google.colab import drive\n",
        "drive.mount('/content/drive')\n",
        "%cd /content/drive/MyDrive/"
      ]
    },
    {
      "cell_type": "code",
      "execution_count": 9,
      "metadata": {
        "id": "Re2rmPFBQxbT"
      },
      "outputs": [],
      "source": [
        "# data dir Sebastian Colab \n",
        "#data_path =\"KU/NLP_advanced/\"\n",
        "# data dir X Colab \n",
        "#data_path =\"X)/\"\n",
        "# set to empty string if not using colab\n",
        "data_path = \"\""
      ]
    },
    {
      "cell_type": "code",
      "execution_count": 2,
      "metadata": {
        "id": "6EJ3gmzUtikV"
      },
      "outputs": [],
      "source": [
        "import torch\n",
        "import torch.nn as nn\n",
        "import torch.nn.functional as F\n",
        "from torch.utils.data import DataLoader, Dataset\n",
        "from tqdm.autonotebook import tqdm\n",
        "import matplotlib.pyplot as plt\n",
        "import random\n",
        "import numpy as np\n",
        "from copy import deepcopy"
      ]
    },
    {
      "cell_type": "code",
      "execution_count": 11,
      "metadata": {
        "id": "BIx8xwj2QxbU"
      },
      "outputs": [],
      "source": [
        "# set seed for reproducibility\n",
        "seed = 42\n",
        "random.seed(seed)\n",
        "np.random.seed(seed)\n",
        "torch.manual_seed(seed)\n",
        "torch.cuda.manual_seed(seed)\n",
        "torch.backends.cudnn.deterministic = True\n"
      ]
    },
    {
      "cell_type": "code",
      "execution_count": 3,
      "metadata": {
        "id": "TVrFS30Zt9W2"
      },
      "outputs": [],
      "source": [
        "device = torch.device('cuda' if torch.cuda.is_available() else 'cpu')\n",
        "BATCH_SIZE = 1"
      ]
    },
    {
      "cell_type": "markdown",
      "metadata": {
        "id": "GTxtZAijNa9L"
      },
      "source": [
        "# Load data and prepare the dataloader"
      ]
    },
    {
      "cell_type": "code",
      "execution_count": 4,
      "metadata": {
        "id": "FKBhf2bEm34y"
      },
      "outputs": [],
      "source": [
        "def load_data(filename):\n",
        "    \"\"\"Load data from file and extract commands and action.\"\"\"\n",
        "\n",
        "    with open(filename) as source:\n",
        "        for line in source:\n",
        "            # Tokenize on whitespace\n",
        "            line = line.rstrip().split() \n",
        "            commands = line[1:line.index(\"OUT:\")]\n",
        "            actions = line[line.index(\"OUT:\")+1:]\n",
        "            yield commands, actions"
      ]
    },
    {
      "cell_type": "code",
      "execution_count": 5,
      "metadata": {
        "id": "PwTMUTVgmAFq"
      },
      "outputs": [],
      "source": [
        "def make_vocab(data):\n",
        "    \"\"\"Create vocabularies for commands and actions respectively.\"\"\"\n",
        "    \n",
        "    src_vocab = {\"<PAD>\": 0, \"<SOS>\": 1, \"<EOS>\": 2, \"<UNK>\": 3}\n",
        "    tgt_vocab = {\"<PAD>\": 0, \"<SOS>\": 1, \"<EOS>\": 2, \"<UNK>\": 3}\n",
        "\n",
        "    for commands, actions in data:\n",
        "        for cmd, act in zip(commands, actions):\n",
        "            if cmd not in src_vocab:\n",
        "                src_vocab[cmd] = len(src_vocab)\n",
        "            if act not in tgt_vocab:\n",
        "                tgt_vocab[act] = len(tgt_vocab)\n",
        "\n",
        "    return src_vocab, tgt_vocab"
      ]
    },
    {
      "cell_type": "code",
      "execution_count": 6,
      "metadata": {
        "id": "n10R38fksH1y"
      },
      "outputs": [],
      "source": [
        "class ScanDataset(Dataset):\n",
        "    \"\"\"Class containing the Scan dataset.\"\"\"\n",
        "    \n",
        "    def __init__(self, src_vocab, tgt_vocab, filename):\n",
        "        self.src_vocab = src_vocab\n",
        "        self.tgt_vocab = tgt_vocab\n",
        "        # Each command/action is encoded with the corresponding vocab ID.\n",
        "        self.src = [[self.src_vocab.get(w, 3) for w in s] for s, t in load_data(filename)]\n",
        "        self.tgt = [[self.tgt_vocab.get(w, 3) for w in t] + [2] for s, t in load_data(filename)]\n",
        "\n",
        "    def __getitem__(self, idx):\n",
        "        return self.src[idx], self.tgt[idx]\n",
        "\n",
        "    def __len__(self):\n",
        "        return len(self.src)"
      ]
    },
    {
      "cell_type": "code",
      "execution_count": 13,
      "metadata": {
        "id": "4RCw7FmAphBZ"
      },
      "outputs": [],
      "source": [
        "class ScanBatcher():\n",
        "    \"\"\"Class to handle batching (collate function).\"\"\"\n",
        "    \n",
        "    def __call__(self, batch):\n",
        "        srcs, tgts = zip(*batch)\n",
        "\n",
        "        # Determine the maximal length of a source/target sequence\n",
        "        max_src_len = max(len(s) for s in srcs)\n",
        "        max_tgt_len = max(len(t) for t in tgts)\n",
        "\n",
        "        # Create the source/target tensors\n",
        "        S = torch.LongTensor([s + [0] * (max_src_len - len(s)) for s in srcs])\n",
        "        T = torch.LongTensor([t + [0] * (max_tgt_len - len(t)) for t in tgts])\n",
        "\n",
        "        return S.to(device), T.to(device)"
      ]
    },
    {
      "cell_type": "markdown",
      "metadata": {
        "id": "LRDk1i102yCL"
      },
      "source": [
        "### Test the dataloader"
      ]
    },
    {
      "cell_type": "code",
      "execution_count": 14,
      "metadata": {
        "id": "h13jOC75pzlt"
      },
      "outputs": [],
      "source": [
        "src_vocab, tgt_vocab = make_vocab(load_data(data_path+\"simple_split/tasks_train_simple.txt\"))\n",
        "train_dataset = ScanDataset(src_vocab, tgt_vocab, data_path+\"simple_split/tasks_train_simple.txt\")\n",
        "batcher = ScanBatcher()\n",
        "batch_size = 1\n",
        "train_loader = DataLoader(train_dataset, batch_size, shuffle=True, collate_fn=batcher)"
      ]
    },
    {
      "cell_type": "code",
      "execution_count": 15,
      "metadata": {
        "colab": {
          "base_uri": "https://localhost:8080/"
        },
        "id": "H3b_i8ZPtBU9",
        "outputId": "2f25f889-2e91-4453-de4c-d3c02adcf6f0"
      },
      "outputs": [
        {
          "output_type": "stream",
          "name": "stdout",
          "text": [
            "tensor([[ 4,  5,  6, 10, 13,  4,  5,  6, 10]], device='cuda:0')\n",
            "tensor([[4, 4, 5, 4, 4, 5, 4, 4, 5, 4, 4, 5, 4, 4, 5, 4, 4, 5, 2]],\n",
            "       device='cuda:0')\n"
          ]
        }
      ],
      "source": [
        "for example_batch in train_loader:\n",
        "    print(example_batch[0])\n",
        "    print(example_batch[1])\n",
        "    break"
      ]
    },
    {
      "cell_type": "markdown",
      "metadata": {
        "id": "oOIJo3kqNg-p"
      },
      "source": [
        "# Base architecture"
      ]
    },
    {
      "cell_type": "code",
      "execution_count": 18,
      "metadata": {
        "id": "Ylb4yUBCOJMG"
      },
      "outputs": [],
      "source": [
        "# integrate attention into the model(please check it)\n",
        "\n",
        "class BahdanauAttention(nn.Module):\n",
        "\n",
        "    def __init__(self, hidden_dim=200):\n",
        "        super().__init__()\n",
        "        self.U = nn.Linear(hidden_dim, hidden_dim, bias=False)\n",
        "        self.W = nn.Linear(hidden_dim, hidden_dim, bias=False)\n",
        "        self.v = nn.Linear(hidden_dim, 1, bias=False)\n",
        "\n",
        "    def forward(self, decoder_hidden, encoder_output, src_mask):\n",
        "        \"\"\"\n",
        "        decoder_hidden: [layer_size, batch_size, hidden_dim]\n",
        "        encoder_output: [batch_size, src_len, hidden_dim]\n",
        "        src_mask: [batch_size, src_len]\n",
        "        return: context vector [batch_size, hidden_dim] and attention weights [batch_size, src_len]\n",
        "        \"\"\"\n",
        "        # scores:[batch_size, src_len, hidden_size]\n",
        "        scores = torch.tanh(self.W(decoder_hidden[-1,:,:]).unsqueeze(1) + self.U(encoder_output))\n",
        "        # multiply scores by v to get attention weights\n",
        "        attention = self.v(scores).squeeze(2) # [batch_size, src_len]\n",
        "        # multiply src_mask to make sure that the attention of padding tokens is 0\n",
        "        # set to -inf to make sure that the softmax of these tokens is 0\n",
        "        attention.data.masked_fill_(src_mask, -float('inf'))\n",
        "        # softmax to get normalized weights\n",
        "        alpha = F.softmax(attention, dim=1).unsqueeze(1) # [batch_size, 1, src_len]\n",
        "        # The context vector is the alpha-weighted sum of the encoder outputs.\n",
        "        context = torch.bmm(alpha, encoder_output).squeeze(1) # [batch_size, hidden_dim]\n",
        "        return context, alpha"
      ]
    },
    {
      "cell_type": "code",
      "execution_count": 20,
      "metadata": {
        "id": "vxkmnvuSQxbh",
        "outputId": "93c37f92-3ca6-4bdf-afbf-fd274eef19ea",
        "colab": {
          "base_uri": "https://localhost:8080/"
        }
      },
      "outputs": [
        {
          "output_type": "stream",
          "name": "stdout",
          "text": [
            "context: torch.Size([1, 200])\n",
            "alpha: torch.Size([1, 1, 7])\n"
          ]
        }
      ],
      "source": [
        "# test attention\n",
        "attention = BahdanauAttention(hidden_dim=200)\n",
        "# layer size, batch size, hidden size\n",
        "hidden = torch.randn(2, 1, 200)\n",
        "# batch_size, src_len, hidden_dim\n",
        "encoder_output = torch.randn(1, 7, 200)\n",
        "src_mask = torch.tensor([[0, 0, 0, 0, 0, 0, 1]])\n",
        "context, alpha = attention(hidden, encoder_output, src_mask)\n",
        "print(\"context:\",context.shape)\n",
        "print(\"alpha:\",alpha.shape)"
      ]
    },
    {
      "cell_type": "code",
      "execution_count": 21,
      "metadata": {
        "id": "nletPZwFnb8B"
      },
      "outputs": [],
      "source": [
        "class Encoder(nn.Module):\n",
        "    \"\"\"Class to represent the encoder.\"\"\"\n",
        "\n",
        "    def __init__(self, input_size, hidden_size, num_layers, dropout, rnn_type):\n",
        "        super().__init__()\n",
        "        self.rnn_type = rnn_type\n",
        "        self.hidden_size = hidden_size\n",
        "        self.num_layers = num_layers\n",
        "        self.embedding = nn.Embedding(input_size, hidden_size, device=device)\n",
        "        if rnn_type == \"gru\":\n",
        "            self.rnn = nn.GRU(hidden_size, hidden_size, num_layers=num_layers, \n",
        "                              dropout=dropout, batch_first=True, device=device)\n",
        "        else:\n",
        "            self.rnn = nn.LSTM(hidden_size, hidden_size, num_layers=num_layers, \n",
        "                               dropout=dropout, batch_first=True, device=device)\n",
        "        \n",
        "\n",
        "    def forward(self, input, hidden):\n",
        "        embedded = self.embedding(input)\n",
        "        output, hidden = self.rnn(embedded, hidden)\n",
        "        return output, hidden\n",
        "\n",
        "    def init_hidden(self, batch_size):\n",
        "        hidden = torch.zeros(self.num_layers, batch_size, self.hidden_size, device=device)\n",
        "        return hidden if self.rnn_type == \"gru\" else (hidden, hidden)"
      ]
    },
    {
      "cell_type": "code",
      "execution_count": 22,
      "metadata": {
        "id": "4c3t5royVp-3"
      },
      "outputs": [],
      "source": [
        "class Decoder(nn.Module):\n",
        "    \"\"\"Class to represent the decoder.\"\"\"\n",
        "\n",
        "    def __init__(self, output_size, hidden_size, num_layers, dropout, rnn_type):\n",
        "        super().__init__()\n",
        "        self.hidden_size = hidden_size\n",
        "        self.num_layers = num_layers\n",
        "        self.embedding = nn.Embedding(output_size, hidden_size, device=device)\n",
        "        if rnn_type == \"gru\":\n",
        "            self.rnn = nn.GRU(hidden_size, hidden_size, num_layers=num_layers, \n",
        "                              dropout=dropout, batch_first=True, device=device)\n",
        "        else:\n",
        "            self.rnn = nn.LSTM(hidden_size, hidden_size, num_layers=num_layers, \n",
        "                               dropout=dropout, batch_first=True, device=device)\n",
        "        self.out = nn.Linear(hidden_size, output_size, device=device)\n",
        "        self.softmax = nn.LogSoftmax(dim=2)\n",
        "\n",
        "    def forward(self, hidden, tgt):\n",
        "            batch_size, tgt_len = tgt.shape\n",
        "            # Lookup the embeddings for the previous command (in each sequence)\n",
        "            embedded = self.embedding(tgt)\n",
        "            # Initialise the list of outputs\n",
        "            outputs = []\n",
        "            for i in range(tgt_len):\n",
        "                # Get the embedding for the previous command (in each sequence)\n",
        "                prev_embedded = embedded[:, i]\n",
        "                # Take one step with the RNN\n",
        "                output, hidden = self.step(prev_embedded, hidden)\n",
        "                # Update the list of outputs (in each sequence)\n",
        "                outputs.append(output)\n",
        "            return torch.cat(outputs, dim=1)\n",
        "\n",
        "    def decode(self, encoder_output, hidden, max_len):\n",
        "        batch_size = encoder_output.size(0)\n",
        "        # Initialise the list of generated actions (in each sequence)\n",
        "        generated = [torch.ones(batch_size, dtype=torch.long, device=device)]\n",
        "        # Initialise the list of outputs (to be used when teacher_forcing=False)\n",
        "        outputs = []\n",
        "        for i in range(max_len):\n",
        "            # Get the embedding for the previous action (in each sequence)\n",
        "            prev_embedded = self.embedding(generated[-1])\n",
        "            # Take one step with the RNN\n",
        "            output, hidden = self.step(prev_embedded, hidden)\n",
        "            # Update the list of generated actions (in each sequence)\n",
        "            generated.append(output.argmax(-1).squeeze(1))\n",
        "            outputs.append(output)\n",
        "        generated = [x.unsqueeze(1) for x in generated[1:]]\n",
        "        return torch.cat(generated, dim=1), torch.cat(outputs, dim=1)\n",
        "    \n",
        "    def step(self, prev_embedding, hidden):\n",
        "        output, hidden = self.rnn(prev_embedding.unsqueeze(1), hidden)\n",
        "        output = self.softmax(self.out(output))\n",
        "        return output, hidden"
      ]
    },
    {
      "cell_type": "code",
      "execution_count": 26,
      "metadata": {
        "id": "72dT_-SpKqIl"
      },
      "outputs": [],
      "source": [
        "class AttentionDecoder(nn.Module):\n",
        "    \"\"\"Class to represent the decoderwith attention.\"\"\"\n",
        "\n",
        "    def __init__(self, output_size, hidden_size, num_layers, dropout, rnn_type):\n",
        "        super().__init__()\n",
        "        self.hidden_size = hidden_size\n",
        "        self.num_layers = num_layers\n",
        "        self.embedding = nn.Embedding(output_size, hidden_size, device=device)\n",
        "        self.attention = BahdanauAttention(hidden_dim=hidden_size)\n",
        "        \n",
        "        self.attn_combine = nn.Linear(self.hidden_size * 2, self.hidden_size)\n",
        "        if rnn_type == \"gru\":\n",
        "            self.rnn = nn.GRU(hidden_size, hidden_size, num_layers=num_layers, \n",
        "                              dropout=dropout, batch_first=True, device=device)\n",
        "      \n",
        "        else:\n",
        "            self.rnn = nn.LSTM(hidden_size, hidden_size, num_layers=num_layers, \n",
        "                               dropout=dropout, batch_first=True, device=device)\n",
        "        self.out = nn.Linear(hidden_size, output_size, device=device)\n",
        "        self.linear = nn.Linear(hidden_size*2, output_size, device=device)\n",
        "        self.softmax = nn.LogSoftmax(dim=2)\n",
        "\n",
        "    def forward(self, encoder_output, hidden, tgt, mask):\n",
        "            batch_size, tgt_len = tgt.shape\n",
        "            # Lookup the embeddings for the previous command (in each sequence)\n",
        "            embedded = self.embedding(tgt)\n",
        "            # Initialise the list of outputs\n",
        "            outputs = []\n",
        "            atten_weights = []\n",
        "          \n",
        "            for i in range(tgt_len):\n",
        "                # Get the embedding for the previous command (in each sequence)\n",
        "                prev_embedded = embedded[:, i]\n",
        "                # Take one step with the RNN\n",
        "                output, hidden, atten_weight = self.step(prev_embedded, hidden, encoder_output, mask)\n",
        "                # Update the list of outputs (in each sequence)\n",
        "                outputs.append(output)\n",
        "                atten_weights.append(atten_weight)\n",
        "            \n",
        "              \n",
        "            return torch.cat(outputs, dim=1),  torch.cat(atten_weights, dim=1)\n",
        "\n",
        "    def decode(self, encoder_output, hidden, max_len, mask):\n",
        "        batch_size = encoder_output.size(0)\n",
        "        # Initialise the list of generated actions (in each sequence)\n",
        "        generated = [torch.ones(batch_size, dtype=torch.long, device=device)]\n",
        "        # Initialise the list of outputs (to be used when teacher_forcing=False)\n",
        "        outputs = []\n",
        "        atten_weights = []\n",
        "        for i in range(max_len):\n",
        "            # Get the embedding for the previous action (in each sequence)\n",
        "            prev_embedded = self.embedding(generated[-1])\n",
        "            # Take one step with the RNN\n",
        "            output, hidden, atten_weight = self.step(prev_embedded.squeeze(1), hidden, encoder_output, mask)\n",
        "            # Update the list of generated actions (in each sequence)\n",
        "            generated.append(output.argmax(-1))\n",
        "            outputs.append(output)\n",
        "            atten_weights.append(atten_weight)\n",
        "        generated = [x.unsqueeze(1) for x in generated[1:]]\n",
        "        return torch.cat(generated, dim=1).squeeze(2), torch.cat(outputs, dim=1).squeeze(2), torch.cat(atten_weights, dim=1)\n",
        "    \n",
        "    def step(self, input, hidden, encoder_output, mask):\n",
        "        # use the hidden state of decoder output to make attention\n",
        "        # attention with encoder output\n",
        "        context, alpha = self.attention(hidden[0], encoder_output, src_mask=mask)\n",
        "        # with train lable/prediction from previous step\n",
        "        input_rnn = torch.cat([context, input], dim=1)\n",
        "        input_rnn = self.attn_combine(input_rnn)\n",
        "        output_rnn, hidden = self.rnn(input_rnn.unsqueeze(1), hidden)\n",
        "        input_linear = torch.cat([hidden[0][-1,:,:],context], dim=1)\n",
        "        output_linear = self.linear(input_linear)\n",
        "        return output_linear.unsqueeze(1), hidden, alpha"
      ]
    },
    {
      "cell_type": "code",
      "execution_count": 27,
      "metadata": {
        "id": "pNDg1TqSMVTR"
      },
      "outputs": [],
      "source": [
        "class EncoderDecoder(nn.Module):\n",
        "    \"\"\"Class to represent the seq2seq model.\"\"\"\n",
        "\n",
        "    def __init__(self, src_vocab_size, tgt_vocab_size, hidden_size, \n",
        "                 num_layers, dropout, rnn_type, attention):\n",
        "        super().__init__()\n",
        "        self.encoder = Encoder(src_vocab_size, hidden_size, \n",
        "                               num_layers, dropout, rnn_type)\n",
        "        self.attention = attention\n",
        "        if self.attention == True:\n",
        "          self.decoder = AttentionDecoder(tgt_vocab_size, hidden_size, \n",
        "                               num_layers, dropout, rnn_type,)\n",
        "        else:\n",
        "          self.decoder = Decoder(tgt_vocab_size, hidden_size, \n",
        "                               num_layers, dropout, rnn_type)\n",
        "\n",
        "    def forward(self, src, tgt, teacher_forcing=True):\n",
        "        batch_size, tgt_len = tgt.shape\n",
        "        output, hidden = self.encoder(src, self.encoder.init_hidden(batch_size))\n",
        "        if self.attention == True:\n",
        "          #mask:mask(if src==0: True)\n",
        "          if teacher_forcing:\n",
        "              output, attention_weights = self.decoder.forward(output, hidden, tgt, src==0)\n",
        "              return output, attention_weights\n",
        "          else:\n",
        "              _, output, attention_weights = self.decoder.decode(output, hidden, tgt_len, src==0)\n",
        "              return output, attention_weights\n",
        "        else:\n",
        "              return self.decoder.forward(hidden, tgt) if teacher_forcing else self.decoder.decode(output, hidden, tgt_len)[1]\n",
        "\n",
        "    def decode(self, src, max_len):\n",
        "        batch_size, _ = src.shape\n",
        "        encoder_output, hidden = self.encoder(src, self.encoder.init_hidden(batch_size))\n",
        "        \n",
        "        if self.attention == True:\n",
        "          generated, _, atten_weights = self.decoder.decode(encoder_output, hidden, max_len, src==0)\n",
        "          return generated, atten_weights\n",
        "        else:\n",
        "          return self.decoder.decode(encoder_output, hidden, max_len)[0]"
      ]
    },
    {
      "cell_type": "markdown",
      "metadata": {
        "id": "Vl3pQm263K-c"
      },
      "source": [
        "### Test seq2seq model"
      ]
    },
    {
      "cell_type": "code",
      "execution_count": 28,
      "metadata": {
        "colab": {
          "base_uri": "https://localhost:8080/"
        },
        "id": "uZVtNhB3buiT",
        "outputId": "c842ec2c-4981-4ac0-e367-a40fe9adb57a"
      },
      "outputs": [
        {
          "output_type": "stream",
          "name": "stdout",
          "text": [
            "torch.Size([1, 19, 10])\n",
            "torch.Size([1, 19])\n",
            "torch.Size([1, 19, 9])\n",
            "torch.Size([1, 19, 9])\n"
          ]
        }
      ],
      "source": [
        "#test decoder with attention and original decoder\n",
        "encoder_decoder = EncoderDecoder(len(src_vocab), len(tgt_vocab), 200, 2, 0.5, \"lstm\", True).to(device)\n",
        "forward_out, forward_atten_weights = encoder_decoder.forward(example_batch[0], example_batch[1])\n",
        "decode_out, decode_atten_weights = encoder_decoder.decode(example_batch[0], example_batch[1][0].shape[0])\n",
        "print(forward_out.shape)\n",
        "print(decode_out.shape)\n",
        "print(forward_atten_weights.shape)\n",
        "print(decode_atten_weights.shape)"
      ]
    },
    {
      "cell_type": "code",
      "execution_count": 29,
      "metadata": {
        "id": "8-LXmgi9Qxbn",
        "outputId": "5267de78-a161-49bd-d362-5d9e41d4600c",
        "colab": {
          "base_uri": "https://localhost:8080/",
          "height": 628
        }
      },
      "outputs": [
        {
          "output_type": "display_data",
          "data": {
            "text/plain": [
              "<Figure size 720x720 with 2 Axes>"
            ],
            "image/png": "[encoded data removed]"
          },
          "metadata": {
            "needs_background": "light"
          }
        }
      ],
      "source": [
        "import matplotlib.ticker as ticker\n",
        "\n",
        "# display the attention weights\n",
        "def display_attention_weights(attention_weights, src, tgt):\n",
        "    # if src and tgt are tensors, convert them to lists\n",
        "    if isinstance(src, torch.Tensor):\n",
        "        src = src.tolist()\n",
        "    if isinstance(tgt, torch.Tensor):\n",
        "        tgt = tgt.tolist()\n",
        "    fig = plt.figure(figsize=(10, 10))\n",
        "    ax = fig.add_subplot(1, 1, 1)\n",
        "    attention_weights = attention_weights.squeeze(0).detach().cpu().numpy()\n",
        "    cax = ax.matshow(attention_weights, cmap='bone')\n",
        "    fig.colorbar(cax)\n",
        "    \n",
        "    # reverse the source and target vocabularies to get the words\n",
        "    src_vocab_rev = {v: k for k, v in src_vocab.items()}\n",
        "    tgt_vocab_rev = {v: k for k, v in tgt_vocab.items()}\n",
        "    # convert the tokens to words and add to labels\n",
        "    src = [src_vocab_rev[x] for x in src]\n",
        "    tgt = [tgt_vocab_rev[x] for x in tgt]\n",
        "    \n",
        "    \n",
        "    ax.set_xticklabels([''] + src, rotation=90)\n",
        "    ax.set_yticklabels([''] + tgt)\n",
        "\n",
        "    ax.xaxis.set_major_locator(ticker.MultipleLocator(1))\n",
        "    ax.yaxis.set_major_locator(ticker.MultipleLocator(1))\n",
        "\n",
        "    plt.show()\n",
        "\n",
        "# display the attention weights\n",
        "src, tgt = example_batch[0][0], example_batch[1][0]\n",
        "display_attention_weights(forward_atten_weights, src, tgt)\n"
      ]
    },
    {
      "cell_type": "markdown",
      "metadata": {
        "id": "uk9l64-W35a4"
      },
      "source": [
        "# Interpreter"
      ]
    },
    {
      "cell_type": "code",
      "execution_count": 30,
      "metadata": {
        "id": "5hlMEU-5MlQX"
      },
      "outputs": [],
      "source": [
        "class Interpreter(object):\n",
        "    \"\"\"Wrapper class for seq2seq model that enables interactive usage.\"\"\"\n",
        "\n",
        "    def __init__(self, src_vocab, tgt_vocab, hidden_size, \n",
        "                 num_layers, attention=False, dropout=0, rnn_type=\"lstm\"):\n",
        "        self.src_vocab = src_vocab\n",
        "        self.tgt_vocab = tgt_vocab\n",
        "        self.hidden_size = hidden_size\n",
        "        self.num_layers = num_layers\n",
        "        self.attention = attention\n",
        "        self.model = EncoderDecoder(len(src_vocab), len(tgt_vocab), hidden_size, \n",
        "                                    num_layers, dropout, rnn_type, attention).to(device)\n",
        "\n",
        "    def _interpret(self, commands):\n",
        "        \"\"\"Get model output in readable format for provided commands.\"\"\"\n",
        "        # Encode each command sequence\n",
        "        encoded = [[self.src_vocab.get(w, 3) for w in s.split()] for s in commands]\n",
        "        # Determine the maximal length of an encoded command sequence\n",
        "        max_len = max(len(e) for e in encoded)\n",
        "        # Build the input tensor, padding all sequences to the same length\n",
        "        src = torch.LongTensor([e + [0] * (max_len - len(e)) for e in encoded]).to(device)\n",
        "        # Run the decoder and convert the result into nested lists\n",
        "        with torch.no_grad():\n",
        "            if self.model.attention == True:\n",
        "                output, _ = self.model.decode(src, max_len*5)\n",
        "            else:\n",
        "                output = self.model.decode(src, max_len*5)\n",
        "            decoded = tuple(d.cpu().numpy().tolist() for d in output) # max_len?\n",
        "        \n",
        "\n",
        "        # Prune each decoded action sequence after the first <EOS>\n",
        "        i2w = {i: w for w, i in self.tgt_vocab.items()}\n",
        "        result = []\n",
        "        for d in decoded:\n",
        "            d = [i2w[i] for i in d]\n",
        "            try:\n",
        "                eos_index = d.index(\"<EOS>\")\n",
        "                del d[eos_index:]\n",
        "            except:\n",
        "                pass\n",
        "            result.append(\" \".join(d))\n",
        "        return result\n",
        "\n",
        "    def interpret(self, commands):\n",
        "        \"\"\"Interpretation function that transforms commands to actions.\"\"\"\n",
        "        interpreted = self._interpret(commands)\n",
        "        return interpreted"
      ]
    },
    {
      "cell_type": "markdown",
      "metadata": {
        "id": "9Eaj8mDe3xqf"
      },
      "source": [
        "### Test interpreter"
      ]
    },
    {
      "cell_type": "code",
      "execution_count": 31,
      "metadata": {
        "colab": {
          "base_uri": "https://localhost:8080/"
        },
        "id": "6ePuHJAwWBOj",
        "outputId": "b67ad03a-dbe1-490a-923d-5c037ea7226f"
      },
      "outputs": [
        {
          "output_type": "execute_result",
          "data": {
            "text/plain": [
              "['<PAD> I_RUN',\n",
              " '<PAD> I_TURN_LEFT I_TURN_LEFT I_RUN <UNK> <UNK> I_TURN_LEFT I_JUMP <PAD> <PAD> I_TURN_LEFT I_JUMP <UNK> I_TURN_RIGHT <UNK> I_RUN I_RUN I_TURN_LEFT I_TURN_LEFT I_TURN_LEFT']"
            ]
          },
          "metadata": {},
          "execution_count": 31
        }
      ],
      "source": [
        "# This version is pretty bad since it has not been trained yet\n",
        "#interpreter = Interpreter(src_vocab, tgt_vocab, hidden_size=200, num_layers=2, attention=True, dropout=0.5, rnn_type=\"gru\")\n",
        "interpreter = Interpreter(src_vocab, tgt_vocab, hidden_size=200, num_layers=2, attention=False, dropout=0.5, rnn_type=\"gru\")\n",
        "interpreter.interpret([\"turn opposite right thrice\", \"turn opposite left twice\"])"
      ]
    },
    {
      "cell_type": "markdown",
      "metadata": {
        "id": "wjeeWDD23nz9"
      },
      "source": [
        "# Training and evaluation"
      ]
    },
    {
      "cell_type": "code",
      "execution_count": 32,
      "metadata": {
        "id": "hb05OBv0sghB"
      },
      "outputs": [],
      "source": [
        "def train(interpreter, train_dataset, n_trials=100000, batch_size=1, lr=0.001):\n",
        "    \"\"\"Run training for provided interpreter (seq2seq model).\"\"\"\n",
        "\n",
        "    # Prepare the dataloader\n",
        "    batcher = ScanBatcher()\n",
        "    sampler = torch.utils.data.RandomSampler(train_dataset, replacement=True, num_samples=n_trials)\n",
        "    train_loader = DataLoader(train_dataset, batch_size=1, sampler=sampler, collate_fn=batcher)\n",
        "\n",
        "    # Initialise the optimiser\n",
        "    optimizer = torch.optim.Adam(interpreter.model.parameters(), lr=lr)\n",
        "\n",
        "    # Calculate initial accuracy\n",
        "    #print(\"Calculating initial accuracy...\")\n",
        "    #train_accuracy = evaluate(interpreter, train_loader)\n",
        "    #print(\"Initial accuracy: {:.2f}%\".format(train_accuracy * 100))\n",
        "    print(\"Training...\")\n",
        "    # Make it possible to interrupt the training\n",
        "    try:\n",
        "        with tqdm(total=n_trials) as pbar:\n",
        "            losses = []\n",
        "            for i, (src_batch, tgt_batch) in enumerate(train_loader):\n",
        "                interpreter.model.train()\n",
        "                \n",
        "                # Create a shifted version of tgt_batch containing the previous words\n",
        "                batch_size, tgt_len = tgt_batch.shape\n",
        "                bos = torch.ones(batch_size, 1, dtype=torch.long, device=device)\n",
        "                tgt_batch_shifted = torch.cat((bos, tgt_batch[:, :-1]), dim=1)\n",
        "\n",
        "                # Forward pass (do teacher forcing with probability 0.5)\n",
        "                teacher_forcing = random.random() < 0.5\n",
        "                scores = interpreter.model(src_batch, tgt_batch_shifted, teacher_forcing=teacher_forcing)\n",
        "                if interpreter.model.attention == True:\n",
        "                  scores, _ = scores #do not use attention weights\n",
        "\n",
        "                # Backward pass\n",
        "                optimizer.zero_grad()\n",
        "                loss = F.cross_entropy(scores.view(-1, len(tgt_vocab)), tgt_batch.view(-1), ignore_index=0)\n",
        "                loss.backward()\n",
        "                nn.utils.clip_grad_norm_(interpreter.model.parameters(), max_norm=5.0) # Gradient clipping\n",
        "                optimizer.step()\n",
        "\n",
        "                # Update the diagnostics\n",
        "                losses.append(loss.item())\n",
        "                pbar.set_postfix(loss=(sum(losses) / len(losses)))#, train_accuracy=train_accuracy)\n",
        "                #update progress bar\n",
        "                pbar.update(len(src_batch))\n",
        "        \n",
        "                # Evaluate current model on train data\n",
        "                #if i % 250 == 0:\n",
        "                #    train_accuracy = evaluate(interpreter, train_loader)\n",
        "                \n",
        "    except KeyboardInterrupt:\n",
        "        pass\n",
        "    \n",
        "    #print(f\"Final train accuracy: {train_accuracy}\")\n",
        "    return interpreter, losses"
      ]
    },
    {
      "cell_type": "code",
      "execution_count": 33,
      "metadata": {
        "id": "Vn0matej4mFb"
      },
      "outputs": [],
      "source": [
        "def evaluate(interpreter, data_loader):\n",
        "    \"\"\"Evaluate model on data (results reported in accuracy).\"\"\"      \n",
        "\n",
        "    correct, num_instances = 0, 0\n",
        "    interpreter.model.eval()\n",
        "\n",
        "    for i, (src_batch, tgt_batch) in enumerate(data_loader):\n",
        "        batch_size, tgt_len = tgt_batch.shape\n",
        "\n",
        "        # Generate actions\n",
        "        with torch.no_grad():\n",
        "            preds = interpreter.model.decode(src_batch, tgt_len)\n",
        "\n",
        "        if interpreter.model.attention == True:\n",
        "            preds, attention_weights = preds\n",
        "          \n",
        "        # calculate train accuracy for batch (make more efficient?)\n",
        "        for i, tgt in enumerate(tgt_batch):\n",
        "            idx = (tgt == 2).nonzero(as_tuple=True)[0].item()\n",
        "            # Ignore everything after <EOS> token\n",
        "            tgt = tgt[:idx]\n",
        "            pred = preds[i, :idx]\n",
        "            # Increment number of correct and total actions\n",
        "            correct += 1 if torch.all(pred == tgt) else 0\n",
        "            num_instances += 1\n",
        "\n",
        "    return correct / num_instances"
      ]
    },
    {
      "cell_type": "markdown",
      "metadata": {
        "id": "fe7V7zfHyYbE"
      },
      "source": [
        "# Experiments"
      ]
    },
    {
      "cell_type": "code",
      "execution_count": 34,
      "metadata": {
        "id": "QoBDxVx8ydaP"
      },
      "outputs": [],
      "source": [
        "def prepare_data(train_file, test_file):\n",
        "    \"\"\"Create vocabs, datasets and test dataloader for the given files.\"\"\"\n",
        "    # Build the vocabularies\n",
        "    src_vocab, tgt_vocab = make_vocab(load_data(train_file))\n",
        "    # Prepare the dataset\n",
        "    train_dataset = ScanDataset(src_vocab, tgt_vocab, train_file)\n",
        "    test_dataset = ScanDataset(src_vocab, tgt_vocab, test_file)\n",
        "    # Prepare dataloader for test data\n",
        "    batcher = ScanBatcher()\n",
        "    test_loader = DataLoader(test_dataset, batch_size=32, shuffle=True, collate_fn=batcher)\n",
        "    return src_vocab, tgt_vocab, train_dataset, test_loader"
      ]
    },
    {
      "cell_type": "code",
      "execution_count": 35,
      "metadata": {
        "id": "lXCYsLvuIj3f"
      },
      "outputs": [],
      "source": [
        "def plot_bar(xs, ys, title, xlabel, ylabel, fontsize=12, percentages=True):\n",
        "    \"\"\"Make bar plot similar to the ones in the paper.\"\"\"\n",
        "    index = np.arange(len(ys))\n",
        "    plt.figure(figsize=(8, 5))\n",
        "    plt.bar(index, ys)\n",
        "    plt.title(title, fontsize=fontsize+4)\n",
        "    plt.xlabel(xlabel, fontsize=fontsize)\n",
        "    plt.ylabel(ylabel, fontsize=fontsize)\n",
        "    x_arr = [str(x) + \"%\" if percentages else str(x) for x in xs]\n",
        "    # y ticks from 0 to 100\n",
        "    plt.yticks(np.arange(0, 101, 20))\n",
        "    plt.xticks(index, x_arr, fontsize=fontsize, rotation=30)\n",
        "    plt.show()\n",
        "\n",
        "# plot losses\n",
        "def plot_losses(losses, title, xlabel, ylabel,fig_size=(8,5)):\n",
        "    plt.figure(figsize=fig_size)\n",
        "    plt.plot(losses)\n",
        "    plt.title(title)\n",
        "    plt.xlabel(xlabel)\n",
        "    plt.ylabel(ylabel)\n",
        "    plt.show()\n"
      ]
    },
    {
      "cell_type": "markdown",
      "metadata": {
        "id": "nctWug6DvpOb"
      },
      "source": [
        "## Overall-best architecture"
      ]
    },
    {
      "cell_type": "code",
      "execution_count": 36,
      "metadata": {
        "colab": {
          "base_uri": "https://localhost:8080/",
          "height": 84,
          "referenced_widgets": [
            "41f3890d3030466587a664a2cebee1fb",
            "70bf66978e654483852ca1ad45f87446",
            "be5f6588a6224bd39bedc25a13e0c007",
            "0a38cd7e1db54d96bab65351cd03b97e",
            "90c145a8a1ee4da9a99e64f3f6120d1f",
            "fb05b66878084619a4fed99acb9f8791",
            "345d00c877804435a1c2397764c80671",
            "c8cc4059d8ea4f66bb283658297797f6",
            "fd04ff57aaf240a5984eee7114b8b316",
            "8c99b14769b548fca39b55d43d240445",
            "24e4ef9505de4a349033e56f0633a58e"
          ]
        },
        "id": "K4drcczM-dDy",
        "outputId": "b274117a-012e-41f3-ed94-a21ddfd07421"
      },
      "outputs": [
        {
          "output_type": "stream",
          "name": "stdout",
          "text": [
            "Training...\n"
          ]
        },
        {
          "output_type": "display_data",
          "data": {
            "text/plain": [
              "  0%|          | 0/100000 [00:00<?, ?it/s]"
            ],
            "application/vnd.jupyter.widget-view+json": {
              "version_major": 2,
              "version_minor": 0,
              "model_id": "41f3890d3030466587a664a2cebee1fb"
            }
          },
          "metadata": {}
        },
        {
          "output_type": "stream",
          "name": "stdout",
          "text": [
            "Final test accuracy: 0.6262553802008608\n"
          ]
        }
      ],
      "source": [
        "src_vocab, tgt_vocab, train_dataset, test_loader = prepare_data(data_path+\"simple_split/tasks_train_simple.txt\", \n",
        "                                                                data_path+\"simple_split/tasks_test_simple.txt\")\n",
        "                                                            \n",
        "interpreter = Interpreter(src_vocab, tgt_vocab, hidden_size=200, \n",
        "                          num_layers=2, attention= True, dropout=0.5, rnn_type=\"lstm\")\n",
        "interpreter, losses = train(interpreter, train_dataset)\n",
        "print(f\"Final test accuracy: {evaluate(interpreter, test_loader)}\")"
      ]
    },
    {
      "cell_type": "code",
      "execution_count": null,
      "metadata": {
        "id": "AHD4M29SQxbu"
      },
      "outputs": [],
      "source": [
        "plot_losses(losses, \"Losses\", \"Epoch\", \"Loss\", fig_size = (8,5))"
      ]
    },
    {
      "cell_type": "markdown",
      "metadata": {
        "id": "ar4NqmFCyAmH"
      },
      "source": [
        "## Experiment 1"
      ]
    },
    {
      "cell_type": "code",
      "execution_count": null,
      "metadata": {
        "colab": {
          "base_uri": "https://localhost:8080/",
          "height": 84,
          "referenced_widgets": [
            "2af692e485574c05805fd03a443b22a0",
            "27871d1f17214b18a6daedfe7fe62774",
            "4a8d4a81fbd94fbb9b5216243da154bc",
            "c297ce936f274db68822691368272f96",
            "6ccc4b1bb22649448e91a95cb20492b5",
            "4fabffe627364450986a0a9d3c762c0e",
            "de33f40772dd4442899b81ab34192290",
            "0eca3d3de3e84712a56a3ab51f59f79f",
            "adef26428b31495b92aebc056a9dcf38",
            "288ccae2658c4dd0b8292687d1e383f5",
            "08296975365542a3a7a6f2c8b59b5ca9"
          ]
        },
        "id": "jYz1_e02yUVO",
        "outputId": "1f880567-2dce-4a72-b476-c6d9921cefe1"
      },
      "outputs": [
        {
          "ename": "KeyboardInterrupt",
          "evalue": "",
          "output_type": "error",
          "traceback": [
            "\u001b[0;31m---------------------------------------------------------------------------\u001b[0m",
            "\u001b[0;31mKeyboardInterrupt\u001b[0m                         Traceback (most recent call last)",
            "\u001b[0;32m/var/folders/1_/6bxc51z14nndl1btc19vdzp40000gn/T/ipykernel_22358/3940223607.py\u001b[0m in \u001b[0;36m<module>\u001b[0;34m\u001b[0m\n\u001b[1;32m      4\u001b[0m interpreter = Interpreter(src_vocab, tgt_vocab, hidden_size=200, \n\u001b[1;32m      5\u001b[0m                           num_layers=2, dropout=0, rnn_type=\"lstm\")\n\u001b[0;32m----> 6\u001b[0;31m \u001b[0minterpreter\u001b[0m\u001b[0;34m,\u001b[0m\u001b[0mlosses\u001b[0m \u001b[0;34m=\u001b[0m \u001b[0mtrain\u001b[0m\u001b[0;34m(\u001b[0m\u001b[0minterpreter\u001b[0m\u001b[0;34m,\u001b[0m \u001b[0mtrain_dataset\u001b[0m\u001b[0;34m)\u001b[0m\u001b[0;34m\u001b[0m\u001b[0;34m\u001b[0m\u001b[0m\n\u001b[0m\u001b[1;32m      7\u001b[0m \u001b[0mprint\u001b[0m\u001b[0;34m(\u001b[0m\u001b[0;34mf\"Final test accuracy: {evaluate(interpreter, test_loader)}\"\u001b[0m\u001b[0;34m)\u001b[0m\u001b[0;34m\u001b[0m\u001b[0;34m\u001b[0m\u001b[0m\n",
            "\u001b[0;32m/var/folders/1_/6bxc51z14nndl1btc19vdzp40000gn/T/ipykernel_22358/1696202651.py\u001b[0m in \u001b[0;36mtrain\u001b[0;34m(interpreter, train_dataset, n_trials, batch_size, lr)\u001b[0m\n\u001b[1;32m     11\u001b[0m \u001b[0;34m\u001b[0m\u001b[0m\n\u001b[1;32m     12\u001b[0m     \u001b[0;31m# Calculate initial accuracy\u001b[0m\u001b[0;34m\u001b[0m\u001b[0;34m\u001b[0m\u001b[0m\n\u001b[0;32m---> 13\u001b[0;31m     \u001b[0mtrain_accuracy\u001b[0m \u001b[0;34m=\u001b[0m \u001b[0mevaluate\u001b[0m\u001b[0;34m(\u001b[0m\u001b[0minterpreter\u001b[0m\u001b[0;34m,\u001b[0m \u001b[0mtrain_loader\u001b[0m\u001b[0;34m)\u001b[0m\u001b[0;34m\u001b[0m\u001b[0;34m\u001b[0m\u001b[0m\n\u001b[0m\u001b[1;32m     14\u001b[0m \u001b[0;34m\u001b[0m\u001b[0m\n\u001b[1;32m     15\u001b[0m     \u001b[0;31m# Make it possible to interrupt the training\u001b[0m\u001b[0;34m\u001b[0m\u001b[0;34m\u001b[0m\u001b[0m\n",
            "\u001b[0;32m/var/folders/1_/6bxc51z14nndl1btc19vdzp40000gn/T/ipykernel_22358/3741318953.py\u001b[0m in \u001b[0;36mevaluate\u001b[0;34m(interpreter, data_loader)\u001b[0m\n\u001b[1;32m     10\u001b[0m         \u001b[0;31m# Generate actions\u001b[0m\u001b[0;34m\u001b[0m\u001b[0;34m\u001b[0m\u001b[0m\n\u001b[1;32m     11\u001b[0m         \u001b[0;32mwith\u001b[0m \u001b[0mtorch\u001b[0m\u001b[0;34m.\u001b[0m\u001b[0mno_grad\u001b[0m\u001b[0;34m(\u001b[0m\u001b[0;34m)\u001b[0m\u001b[0;34m:\u001b[0m\u001b[0;34m\u001b[0m\u001b[0;34m\u001b[0m\u001b[0m\n\u001b[0;32m---> 12\u001b[0;31m             \u001b[0mpreds\u001b[0m \u001b[0;34m=\u001b[0m \u001b[0minterpreter\u001b[0m\u001b[0;34m.\u001b[0m\u001b[0mmodel\u001b[0m\u001b[0;34m.\u001b[0m\u001b[0mdecode\u001b[0m\u001b[0;34m(\u001b[0m\u001b[0msrc_batch\u001b[0m\u001b[0;34m,\u001b[0m \u001b[0mtgt_len\u001b[0m\u001b[0;34m)\u001b[0m\u001b[0;34m\u001b[0m\u001b[0;34m\u001b[0m\u001b[0m\n\u001b[0m\u001b[1;32m     13\u001b[0m \u001b[0;34m\u001b[0m\u001b[0m\n\u001b[1;32m     14\u001b[0m         \u001b[0;32mif\u001b[0m \u001b[0minterpreter\u001b[0m\u001b[0;34m.\u001b[0m\u001b[0mmodel\u001b[0m\u001b[0;34m.\u001b[0m\u001b[0mattention\u001b[0m \u001b[0;34m==\u001b[0m \u001b[0;32mTrue\u001b[0m\u001b[0;34m:\u001b[0m\u001b[0;34m\u001b[0m\u001b[0;34m\u001b[0m\u001b[0m\n",
            "\u001b[0;32m/var/folders/1_/6bxc51z14nndl1btc19vdzp40000gn/T/ipykernel_22358/96480467.py\u001b[0m in \u001b[0;36mdecode\u001b[0;34m(self, src, max_len)\u001b[0m\n\u001b[1;32m     37\u001b[0m           \u001b[0;32mreturn\u001b[0m \u001b[0mgenerated\u001b[0m\u001b[0;34m,\u001b[0m \u001b[0matten_weights\u001b[0m\u001b[0;34m\u001b[0m\u001b[0;34m\u001b[0m\u001b[0m\n\u001b[1;32m     38\u001b[0m         \u001b[0;32melse\u001b[0m\u001b[0;34m:\u001b[0m\u001b[0;34m\u001b[0m\u001b[0;34m\u001b[0m\u001b[0m\n\u001b[0;32m---> 39\u001b[0;31m           \u001b[0;32mreturn\u001b[0m \u001b[0mself\u001b[0m\u001b[0;34m.\u001b[0m\u001b[0mdecoder\u001b[0m\u001b[0;34m.\u001b[0m\u001b[0mdecode\u001b[0m\u001b[0;34m(\u001b[0m\u001b[0mencoder_output\u001b[0m\u001b[0;34m,\u001b[0m \u001b[0mhidden\u001b[0m\u001b[0;34m,\u001b[0m \u001b[0mmax_len\u001b[0m\u001b[0;34m)\u001b[0m\u001b[0;34m[\u001b[0m\u001b[0;36m0\u001b[0m\u001b[0;34m]\u001b[0m\u001b[0;34m\u001b[0m\u001b[0;34m\u001b[0m\u001b[0m\n\u001b[0m",
            "\u001b[0;32m/var/folders/1_/6bxc51z14nndl1btc19vdzp40000gn/T/ipykernel_22358/3773931986.py\u001b[0m in \u001b[0;36mdecode\u001b[0;34m(self, encoder_output, hidden, max_len)\u001b[0m\n\u001b[1;32m     41\u001b[0m             \u001b[0mprev_embedded\u001b[0m \u001b[0;34m=\u001b[0m \u001b[0mself\u001b[0m\u001b[0;34m.\u001b[0m\u001b[0membedding\u001b[0m\u001b[0;34m(\u001b[0m\u001b[0mgenerated\u001b[0m\u001b[0;34m[\u001b[0m\u001b[0;34m-\u001b[0m\u001b[0;36m1\u001b[0m\u001b[0;34m]\u001b[0m\u001b[0;34m)\u001b[0m\u001b[0;34m\u001b[0m\u001b[0;34m\u001b[0m\u001b[0m\n\u001b[1;32m     42\u001b[0m             \u001b[0;31m# Take one step with the RNN\u001b[0m\u001b[0;34m\u001b[0m\u001b[0;34m\u001b[0m\u001b[0m\n\u001b[0;32m---> 43\u001b[0;31m             \u001b[0moutput\u001b[0m\u001b[0;34m,\u001b[0m \u001b[0mhidden\u001b[0m \u001b[0;34m=\u001b[0m \u001b[0mself\u001b[0m\u001b[0;34m.\u001b[0m\u001b[0mstep\u001b[0m\u001b[0;34m(\u001b[0m\u001b[0mprev_embedded\u001b[0m\u001b[0;34m,\u001b[0m \u001b[0mhidden\u001b[0m\u001b[0;34m)\u001b[0m\u001b[0;34m\u001b[0m\u001b[0;34m\u001b[0m\u001b[0m\n\u001b[0m\u001b[1;32m     44\u001b[0m             \u001b[0;31m# Update the list of generated actions (in each sequence)\u001b[0m\u001b[0;34m\u001b[0m\u001b[0;34m\u001b[0m\u001b[0m\n\u001b[1;32m     45\u001b[0m             \u001b[0mgenerated\u001b[0m\u001b[0;34m.\u001b[0m\u001b[0mappend\u001b[0m\u001b[0;34m(\u001b[0m\u001b[0moutput\u001b[0m\u001b[0;34m.\u001b[0m\u001b[0margmax\u001b[0m\u001b[0;34m(\u001b[0m\u001b[0;34m-\u001b[0m\u001b[0;36m1\u001b[0m\u001b[0;34m)\u001b[0m\u001b[0;34m.\u001b[0m\u001b[0msqueeze\u001b[0m\u001b[0;34m(\u001b[0m\u001b[0;36m1\u001b[0m\u001b[0;34m)\u001b[0m\u001b[0;34m)\u001b[0m\u001b[0;34m\u001b[0m\u001b[0;34m\u001b[0m\u001b[0m\n",
            "\u001b[0;32m/var/folders/1_/6bxc51z14nndl1btc19vdzp40000gn/T/ipykernel_22358/3773931986.py\u001b[0m in \u001b[0;36mstep\u001b[0;34m(self, prev_embedding, hidden)\u001b[0m\n\u001b[1;32m     49\u001b[0m \u001b[0;34m\u001b[0m\u001b[0m\n\u001b[1;32m     50\u001b[0m     \u001b[0;32mdef\u001b[0m \u001b[0mstep\u001b[0m\u001b[0;34m(\u001b[0m\u001b[0mself\u001b[0m\u001b[0;34m,\u001b[0m \u001b[0mprev_embedding\u001b[0m\u001b[0;34m,\u001b[0m \u001b[0mhidden\u001b[0m\u001b[0;34m)\u001b[0m\u001b[0;34m:\u001b[0m\u001b[0;34m\u001b[0m\u001b[0;34m\u001b[0m\u001b[0m\n\u001b[0;32m---> 51\u001b[0;31m         \u001b[0moutput\u001b[0m\u001b[0;34m,\u001b[0m \u001b[0mhidden\u001b[0m \u001b[0;34m=\u001b[0m \u001b[0mself\u001b[0m\u001b[0;34m.\u001b[0m\u001b[0mrnn\u001b[0m\u001b[0;34m(\u001b[0m\u001b[0mprev_embedding\u001b[0m\u001b[0;34m.\u001b[0m\u001b[0munsqueeze\u001b[0m\u001b[0;34m(\u001b[0m\u001b[0;36m1\u001b[0m\u001b[0;34m)\u001b[0m\u001b[0;34m,\u001b[0m \u001b[0mhidden\u001b[0m\u001b[0;34m)\u001b[0m\u001b[0;34m\u001b[0m\u001b[0;34m\u001b[0m\u001b[0m\n\u001b[0m\u001b[1;32m     52\u001b[0m         \u001b[0moutput\u001b[0m \u001b[0;34m=\u001b[0m \u001b[0mself\u001b[0m\u001b[0;34m.\u001b[0m\u001b[0msoftmax\u001b[0m\u001b[0;34m(\u001b[0m\u001b[0mself\u001b[0m\u001b[0;34m.\u001b[0m\u001b[0mout\u001b[0m\u001b[0;34m(\u001b[0m\u001b[0moutput\u001b[0m\u001b[0;34m)\u001b[0m\u001b[0;34m)\u001b[0m\u001b[0;34m\u001b[0m\u001b[0;34m\u001b[0m\u001b[0m\n\u001b[1;32m     53\u001b[0m         \u001b[0;32mreturn\u001b[0m \u001b[0moutput\u001b[0m\u001b[0;34m,\u001b[0m \u001b[0mhidden\u001b[0m\u001b[0;34m\u001b[0m\u001b[0;34m\u001b[0m\u001b[0m\n",
            "\u001b[0;32m/usr/local/lib/python3.9/site-packages/torch/nn/modules/module.py\u001b[0m in \u001b[0;36m_call_impl\u001b[0;34m(self, *input, **kwargs)\u001b[0m\n\u001b[1;32m   1108\u001b[0m         if not (self._backward_hooks or self._forward_hooks or self._forward_pre_hooks or _global_backward_hooks\n\u001b[1;32m   1109\u001b[0m                 or _global_forward_hooks or _global_forward_pre_hooks):\n\u001b[0;32m-> 1110\u001b[0;31m             \u001b[0;32mreturn\u001b[0m \u001b[0mforward_call\u001b[0m\u001b[0;34m(\u001b[0m\u001b[0;34m*\u001b[0m\u001b[0minput\u001b[0m\u001b[0;34m,\u001b[0m \u001b[0;34m**\u001b[0m\u001b[0mkwargs\u001b[0m\u001b[0;34m)\u001b[0m\u001b[0;34m\u001b[0m\u001b[0;34m\u001b[0m\u001b[0m\n\u001b[0m\u001b[1;32m   1111\u001b[0m         \u001b[0;31m# Do not call functions when jit is used\u001b[0m\u001b[0;34m\u001b[0m\u001b[0;34m\u001b[0m\u001b[0m\n\u001b[1;32m   1112\u001b[0m         \u001b[0mfull_backward_hooks\u001b[0m\u001b[0;34m,\u001b[0m \u001b[0mnon_full_backward_hooks\u001b[0m \u001b[0;34m=\u001b[0m \u001b[0;34m[\u001b[0m\u001b[0;34m]\u001b[0m\u001b[0;34m,\u001b[0m \u001b[0;34m[\u001b[0m\u001b[0;34m]\u001b[0m\u001b[0;34m\u001b[0m\u001b[0;34m\u001b[0m\u001b[0m\n",
            "\u001b[0;32m/usr/local/lib/python3.9/site-packages/torch/nn/modules/rnn.py\u001b[0m in \u001b[0;36mforward\u001b[0;34m(self, input, hx)\u001b[0m\n\u001b[1;32m    759\u001b[0m         \u001b[0mself\u001b[0m\u001b[0;34m.\u001b[0m\u001b[0mcheck_forward_args\u001b[0m\u001b[0;34m(\u001b[0m\u001b[0minput\u001b[0m\u001b[0;34m,\u001b[0m \u001b[0mhx\u001b[0m\u001b[0;34m,\u001b[0m \u001b[0mbatch_sizes\u001b[0m\u001b[0;34m)\u001b[0m\u001b[0;34m\u001b[0m\u001b[0;34m\u001b[0m\u001b[0m\n\u001b[1;32m    760\u001b[0m         \u001b[0;32mif\u001b[0m \u001b[0mbatch_sizes\u001b[0m \u001b[0;32mis\u001b[0m \u001b[0;32mNone\u001b[0m\u001b[0;34m:\u001b[0m\u001b[0;34m\u001b[0m\u001b[0;34m\u001b[0m\u001b[0m\n\u001b[0;32m--> 761\u001b[0;31m             result = _VF.lstm(input, hx, self._flat_weights, self.bias, self.num_layers,\n\u001b[0m\u001b[1;32m    762\u001b[0m                               self.dropout, self.training, self.bidirectional, self.batch_first)\n\u001b[1;32m    763\u001b[0m         \u001b[0;32melse\u001b[0m\u001b[0;34m:\u001b[0m\u001b[0;34m\u001b[0m\u001b[0;34m\u001b[0m\u001b[0m\n",
            "\u001b[0;31mKeyboardInterrupt\u001b[0m: "
          ]
        }
      ],
      "source": [
        "# Experiment 1a\n",
        "src_vocab, tgt_vocab, train_dataset, test_loader = prepare_data(data_path+\"simple_split/tasks_train_simple.txt\", \n",
        "                                                                data_path+\"simple_split/tasks_test_simple.txt\")\n",
        "interpreter = Interpreter(src_vocab, tgt_vocab, hidden_size=200, \n",
        "                          num_layers=2, dropout=0, rnn_type=\"lstm\")\n",
        "interpreter,losses = train(interpreter, train_dataset)\n",
        "print(f\"Final test accuracy: {evaluate(interpreter, test_loader)}\")"
      ]
    },
    {
      "cell_type": "code",
      "execution_count": null,
      "metadata": {
        "id": "4O-CehW_Qxbw"
      },
      "outputs": [],
      "source": [
        "plot_losses(losses, \"Losses\", \"Epoch\", \"Loss\", fig_size = (8,5))\n"
      ]
    },
    {
      "cell_type": "code",
      "execution_count": null,
      "metadata": {
        "id": "r0A1_9z5Qxbw",
        "outputId": "e1bb8351-29ac-429c-eea0-d459b6eea2e6"
      },
      "outputs": [
        {
          "name": "stdout",
          "output_type": "stream",
          "text": [
            "results\n",
            "results/test_acc_1a_0.0_losses2022-12-04_12-52-38.npy\n"
          ]
        }
      ],
      "source": [
        "import os\n",
        "import datetime\n",
        "#make new directory for results\n",
        "#if not already made\n",
        "if not os.path.exists(data_path+\"results\"):\n",
        "    os.mkdir(data_path+\"results\")\n",
        "\n",
        "losses = []\n",
        "# save losses, and final test accuracy\n",
        "test_acc_1a = evaluate(interpreter, test_loader)\n",
        "# save as npy\n",
        "date = datetime.datetime.now().strftime(\"%Y-%m-%d_%H-%M-%S\")\n",
        "file_name = \"test_acc_1a_\"+str(test_acc_1a) + \"_losses\" + date + \".npy\"\n",
        "file_path = data_path+\"results/\"+file_name\n",
        "print(file_path)\n",
        "np.save(file_path, losses)"
      ]
    },
    {
      "cell_type": "code",
      "execution_count": null,
      "metadata": {
        "id": "JhMaOaia0IV5",
        "outputId": "1f1812e7-29f4-4b5c-bfd3-e43e99a3f795"
      },
      "outputs": [
        {
          "ename": "KeyboardInterrupt",
          "evalue": "",
          "output_type": "error",
          "traceback": [
            "\u001b[0;31m---------------------------------------------------------------------------\u001b[0m",
            "\u001b[0;31mKeyboardInterrupt\u001b[0m                         Traceback (most recent call last)",
            "\u001b[0;32m/var/folders/1_/6bxc51z14nndl1btc19vdzp40000gn/T/ipykernel_22358/3273825531.py\u001b[0m in \u001b[0;36m<module>\u001b[0;34m\u001b[0m\n\u001b[1;32m      7\u001b[0m     interpreter = Interpreter(src_vocab, tgt_vocab, hidden_size=200,\n\u001b[1;32m      8\u001b[0m                               num_layers=2, dropout=0, rnn_type=\"lstm\")\n\u001b[0;32m----> 9\u001b[0;31m     \u001b[0minterpreter\u001b[0m\u001b[0;34m,\u001b[0m \u001b[0mlosses\u001b[0m\u001b[0;34m=\u001b[0m \u001b[0mtrain\u001b[0m\u001b[0;34m(\u001b[0m\u001b[0minterpreter\u001b[0m\u001b[0;34m,\u001b[0m \u001b[0mtrain_dataset\u001b[0m\u001b[0;34m)\u001b[0m\u001b[0;34m\u001b[0m\u001b[0;34m\u001b[0m\u001b[0m\n\u001b[0m\u001b[1;32m     10\u001b[0m     \u001b[0macc\u001b[0m \u001b[0;34m=\u001b[0m \u001b[0mevaluate\u001b[0m\u001b[0;34m(\u001b[0m\u001b[0minterpreter\u001b[0m\u001b[0;34m,\u001b[0m \u001b[0mtest_loader\u001b[0m\u001b[0;34m)\u001b[0m\u001b[0;34m\u001b[0m\u001b[0;34m\u001b[0m\u001b[0m\n\u001b[1;32m     11\u001b[0m     \u001b[0msize_accs\u001b[0m\u001b[0;34m.\u001b[0m\u001b[0mappend\u001b[0m\u001b[0;34m(\u001b[0m\u001b[0macc\u001b[0m\u001b[0;34m)\u001b[0m\u001b[0;34m\u001b[0m\u001b[0;34m\u001b[0m\u001b[0m\n",
            "\u001b[0;32m/var/folders/1_/6bxc51z14nndl1btc19vdzp40000gn/T/ipykernel_22358/4240153719.py\u001b[0m in \u001b[0;36mtrain\u001b[0;34m(interpreter, train_dataset, n_trials, batch_size, lr)\u001b[0m\n\u001b[1;32m     11\u001b[0m \u001b[0;34m\u001b[0m\u001b[0m\n\u001b[1;32m     12\u001b[0m     \u001b[0;31m# Calculate initial accuracy\u001b[0m\u001b[0;34m\u001b[0m\u001b[0;34m\u001b[0m\u001b[0m\n\u001b[0;32m---> 13\u001b[0;31m     \u001b[0mtrain_accuracy\u001b[0m \u001b[0;34m=\u001b[0m \u001b[0mevaluate\u001b[0m\u001b[0;34m(\u001b[0m\u001b[0minterpreter\u001b[0m\u001b[0;34m,\u001b[0m \u001b[0mtrain_loader\u001b[0m\u001b[0;34m)\u001b[0m\u001b[0;34m\u001b[0m\u001b[0;34m\u001b[0m\u001b[0m\n\u001b[0m\u001b[1;32m     14\u001b[0m \u001b[0;34m\u001b[0m\u001b[0m\n\u001b[1;32m     15\u001b[0m     \u001b[0;31m# Make it possible to interrupt the training\u001b[0m\u001b[0;34m\u001b[0m\u001b[0;34m\u001b[0m\u001b[0m\n",
            "\u001b[0;32m/var/folders/1_/6bxc51z14nndl1btc19vdzp40000gn/T/ipykernel_22358/3741318953.py\u001b[0m in \u001b[0;36mevaluate\u001b[0;34m(interpreter, data_loader)\u001b[0m\n\u001b[1;32m     10\u001b[0m         \u001b[0;31m# Generate actions\u001b[0m\u001b[0;34m\u001b[0m\u001b[0;34m\u001b[0m\u001b[0m\n\u001b[1;32m     11\u001b[0m         \u001b[0;32mwith\u001b[0m \u001b[0mtorch\u001b[0m\u001b[0;34m.\u001b[0m\u001b[0mno_grad\u001b[0m\u001b[0;34m(\u001b[0m\u001b[0;34m)\u001b[0m\u001b[0;34m:\u001b[0m\u001b[0;34m\u001b[0m\u001b[0;34m\u001b[0m\u001b[0m\n\u001b[0;32m---> 12\u001b[0;31m             \u001b[0mpreds\u001b[0m \u001b[0;34m=\u001b[0m \u001b[0minterpreter\u001b[0m\u001b[0;34m.\u001b[0m\u001b[0mmodel\u001b[0m\u001b[0;34m.\u001b[0m\u001b[0mdecode\u001b[0m\u001b[0;34m(\u001b[0m\u001b[0msrc_batch\u001b[0m\u001b[0;34m,\u001b[0m \u001b[0mtgt_len\u001b[0m\u001b[0;34m)\u001b[0m\u001b[0;34m\u001b[0m\u001b[0;34m\u001b[0m\u001b[0m\n\u001b[0m\u001b[1;32m     13\u001b[0m \u001b[0;34m\u001b[0m\u001b[0m\n\u001b[1;32m     14\u001b[0m         \u001b[0;32mif\u001b[0m \u001b[0minterpreter\u001b[0m\u001b[0;34m.\u001b[0m\u001b[0mmodel\u001b[0m\u001b[0;34m.\u001b[0m\u001b[0mattention\u001b[0m \u001b[0;34m==\u001b[0m \u001b[0;32mTrue\u001b[0m\u001b[0;34m:\u001b[0m\u001b[0;34m\u001b[0m\u001b[0;34m\u001b[0m\u001b[0m\n",
            "\u001b[0;32m/var/folders/1_/6bxc51z14nndl1btc19vdzp40000gn/T/ipykernel_22358/2208708132.py\u001b[0m in \u001b[0;36mdecode\u001b[0;34m(self, src, max_len)\u001b[0m\n\u001b[1;32m     40\u001b[0m           \u001b[0;31m#return self.decoder.decode(encoder_output, hidden, max_len, src==0)[0]\u001b[0m\u001b[0;34m\u001b[0m\u001b[0;34m\u001b[0m\u001b[0m\n\u001b[1;32m     41\u001b[0m         \u001b[0;32melse\u001b[0m\u001b[0;34m:\u001b[0m\u001b[0;34m\u001b[0m\u001b[0;34m\u001b[0m\u001b[0m\n\u001b[0;32m---> 42\u001b[0;31m           \u001b[0;32mreturn\u001b[0m \u001b[0mself\u001b[0m\u001b[0;34m.\u001b[0m\u001b[0mdecoder\u001b[0m\u001b[0;34m.\u001b[0m\u001b[0mdecode\u001b[0m\u001b[0;34m(\u001b[0m\u001b[0mencoder_output\u001b[0m\u001b[0;34m,\u001b[0m \u001b[0mhidden\u001b[0m\u001b[0;34m,\u001b[0m \u001b[0mmax_len\u001b[0m\u001b[0;34m)\u001b[0m\u001b[0;34m[\u001b[0m\u001b[0;36m0\u001b[0m\u001b[0;34m]\u001b[0m\u001b[0;34m\u001b[0m\u001b[0;34m\u001b[0m\u001b[0m\n\u001b[0m",
            "\u001b[0;32m/var/folders/1_/6bxc51z14nndl1btc19vdzp40000gn/T/ipykernel_22358/3773931986.py\u001b[0m in \u001b[0;36mdecode\u001b[0;34m(self, encoder_output, hidden, max_len)\u001b[0m\n\u001b[1;32m     41\u001b[0m             \u001b[0mprev_embedded\u001b[0m \u001b[0;34m=\u001b[0m \u001b[0mself\u001b[0m\u001b[0;34m.\u001b[0m\u001b[0membedding\u001b[0m\u001b[0;34m(\u001b[0m\u001b[0mgenerated\u001b[0m\u001b[0;34m[\u001b[0m\u001b[0;34m-\u001b[0m\u001b[0;36m1\u001b[0m\u001b[0;34m]\u001b[0m\u001b[0;34m)\u001b[0m\u001b[0;34m\u001b[0m\u001b[0;34m\u001b[0m\u001b[0m\n\u001b[1;32m     42\u001b[0m             \u001b[0;31m# Take one step with the RNN\u001b[0m\u001b[0;34m\u001b[0m\u001b[0;34m\u001b[0m\u001b[0m\n\u001b[0;32m---> 43\u001b[0;31m             \u001b[0moutput\u001b[0m\u001b[0;34m,\u001b[0m \u001b[0mhidden\u001b[0m \u001b[0;34m=\u001b[0m \u001b[0mself\u001b[0m\u001b[0;34m.\u001b[0m\u001b[0mstep\u001b[0m\u001b[0;34m(\u001b[0m\u001b[0mprev_embedded\u001b[0m\u001b[0;34m,\u001b[0m \u001b[0mhidden\u001b[0m\u001b[0;34m)\u001b[0m\u001b[0;34m\u001b[0m\u001b[0;34m\u001b[0m\u001b[0m\n\u001b[0m\u001b[1;32m     44\u001b[0m             \u001b[0;31m# Update the list of generated actions (in each sequence)\u001b[0m\u001b[0;34m\u001b[0m\u001b[0;34m\u001b[0m\u001b[0m\n\u001b[1;32m     45\u001b[0m             \u001b[0mgenerated\u001b[0m\u001b[0;34m.\u001b[0m\u001b[0mappend\u001b[0m\u001b[0;34m(\u001b[0m\u001b[0moutput\u001b[0m\u001b[0;34m.\u001b[0m\u001b[0margmax\u001b[0m\u001b[0;34m(\u001b[0m\u001b[0;34m-\u001b[0m\u001b[0;36m1\u001b[0m\u001b[0;34m)\u001b[0m\u001b[0;34m.\u001b[0m\u001b[0msqueeze\u001b[0m\u001b[0;34m(\u001b[0m\u001b[0;36m1\u001b[0m\u001b[0;34m)\u001b[0m\u001b[0;34m)\u001b[0m\u001b[0;34m\u001b[0m\u001b[0;34m\u001b[0m\u001b[0m\n",
            "\u001b[0;32m/var/folders/1_/6bxc51z14nndl1btc19vdzp40000gn/T/ipykernel_22358/3773931986.py\u001b[0m in \u001b[0;36mstep\u001b[0;34m(self, prev_embedding, hidden)\u001b[0m\n\u001b[1;32m     49\u001b[0m \u001b[0;34m\u001b[0m\u001b[0m\n\u001b[1;32m     50\u001b[0m     \u001b[0;32mdef\u001b[0m \u001b[0mstep\u001b[0m\u001b[0;34m(\u001b[0m\u001b[0mself\u001b[0m\u001b[0;34m,\u001b[0m \u001b[0mprev_embedding\u001b[0m\u001b[0;34m,\u001b[0m \u001b[0mhidden\u001b[0m\u001b[0;34m)\u001b[0m\u001b[0;34m:\u001b[0m\u001b[0;34m\u001b[0m\u001b[0;34m\u001b[0m\u001b[0m\n\u001b[0;32m---> 51\u001b[0;31m         \u001b[0moutput\u001b[0m\u001b[0;34m,\u001b[0m \u001b[0mhidden\u001b[0m \u001b[0;34m=\u001b[0m \u001b[0mself\u001b[0m\u001b[0;34m.\u001b[0m\u001b[0mrnn\u001b[0m\u001b[0;34m(\u001b[0m\u001b[0mprev_embedding\u001b[0m\u001b[0;34m.\u001b[0m\u001b[0munsqueeze\u001b[0m\u001b[0;34m(\u001b[0m\u001b[0;36m1\u001b[0m\u001b[0;34m)\u001b[0m\u001b[0;34m,\u001b[0m \u001b[0mhidden\u001b[0m\u001b[0;34m)\u001b[0m\u001b[0;34m\u001b[0m\u001b[0;34m\u001b[0m\u001b[0m\n\u001b[0m\u001b[1;32m     52\u001b[0m         \u001b[0moutput\u001b[0m \u001b[0;34m=\u001b[0m \u001b[0mself\u001b[0m\u001b[0;34m.\u001b[0m\u001b[0msoftmax\u001b[0m\u001b[0;34m(\u001b[0m\u001b[0mself\u001b[0m\u001b[0;34m.\u001b[0m\u001b[0mout\u001b[0m\u001b[0;34m(\u001b[0m\u001b[0moutput\u001b[0m\u001b[0;34m)\u001b[0m\u001b[0;34m)\u001b[0m\u001b[0;34m\u001b[0m\u001b[0;34m\u001b[0m\u001b[0m\n\u001b[1;32m     53\u001b[0m         \u001b[0;32mreturn\u001b[0m \u001b[0moutput\u001b[0m\u001b[0;34m,\u001b[0m \u001b[0mhidden\u001b[0m\u001b[0;34m\u001b[0m\u001b[0;34m\u001b[0m\u001b[0m\n",
            "\u001b[0;32m/usr/local/lib/python3.9/site-packages/torch/nn/modules/module.py\u001b[0m in \u001b[0;36m_call_impl\u001b[0;34m(self, *input, **kwargs)\u001b[0m\n\u001b[1;32m   1108\u001b[0m         if not (self._backward_hooks or self._forward_hooks or self._forward_pre_hooks or _global_backward_hooks\n\u001b[1;32m   1109\u001b[0m                 or _global_forward_hooks or _global_forward_pre_hooks):\n\u001b[0;32m-> 1110\u001b[0;31m             \u001b[0;32mreturn\u001b[0m \u001b[0mforward_call\u001b[0m\u001b[0;34m(\u001b[0m\u001b[0;34m*\u001b[0m\u001b[0minput\u001b[0m\u001b[0;34m,\u001b[0m \u001b[0;34m**\u001b[0m\u001b[0mkwargs\u001b[0m\u001b[0;34m)\u001b[0m\u001b[0;34m\u001b[0m\u001b[0;34m\u001b[0m\u001b[0m\n\u001b[0m\u001b[1;32m   1111\u001b[0m         \u001b[0;31m# Do not call functions when jit is used\u001b[0m\u001b[0;34m\u001b[0m\u001b[0;34m\u001b[0m\u001b[0m\n\u001b[1;32m   1112\u001b[0m         \u001b[0mfull_backward_hooks\u001b[0m\u001b[0;34m,\u001b[0m \u001b[0mnon_full_backward_hooks\u001b[0m \u001b[0;34m=\u001b[0m \u001b[0;34m[\u001b[0m\u001b[0;34m]\u001b[0m\u001b[0;34m,\u001b[0m \u001b[0;34m[\u001b[0m\u001b[0;34m]\u001b[0m\u001b[0;34m\u001b[0m\u001b[0;34m\u001b[0m\u001b[0m\n",
            "\u001b[0;32m/usr/local/lib/python3.9/site-packages/torch/nn/modules/rnn.py\u001b[0m in \u001b[0;36mforward\u001b[0;34m(self, input, hx)\u001b[0m\n\u001b[1;32m    759\u001b[0m         \u001b[0mself\u001b[0m\u001b[0;34m.\u001b[0m\u001b[0mcheck_forward_args\u001b[0m\u001b[0;34m(\u001b[0m\u001b[0minput\u001b[0m\u001b[0;34m,\u001b[0m \u001b[0mhx\u001b[0m\u001b[0;34m,\u001b[0m \u001b[0mbatch_sizes\u001b[0m\u001b[0;34m)\u001b[0m\u001b[0;34m\u001b[0m\u001b[0;34m\u001b[0m\u001b[0m\n\u001b[1;32m    760\u001b[0m         \u001b[0;32mif\u001b[0m \u001b[0mbatch_sizes\u001b[0m \u001b[0;32mis\u001b[0m \u001b[0;32mNone\u001b[0m\u001b[0;34m:\u001b[0m\u001b[0;34m\u001b[0m\u001b[0;34m\u001b[0m\u001b[0m\n\u001b[0;32m--> 761\u001b[0;31m             result = _VF.lstm(input, hx, self._flat_weights, self.bias, self.num_layers,\n\u001b[0m\u001b[1;32m    762\u001b[0m                               self.dropout, self.training, self.bidirectional, self.batch_first)\n\u001b[1;32m    763\u001b[0m         \u001b[0;32melse\u001b[0m\u001b[0;34m:\u001b[0m\u001b[0;34m\u001b[0m\u001b[0;34m\u001b[0m\u001b[0m\n",
            "\u001b[0;32m/usr/local/lib/python3.9/site-packages/torch/_VF.py\u001b[0m in \u001b[0;36m__getattr__\u001b[0;34m(self, attr)\u001b[0m\n\u001b[1;32m     23\u001b[0m         \u001b[0mself\u001b[0m\u001b[0;34m.\u001b[0m\u001b[0mvf\u001b[0m \u001b[0;34m=\u001b[0m \u001b[0mtorch\u001b[0m\u001b[0;34m.\u001b[0m\u001b[0m_C\u001b[0m\u001b[0;34m.\u001b[0m\u001b[0m_VariableFunctions\u001b[0m\u001b[0;34m\u001b[0m\u001b[0;34m\u001b[0m\u001b[0m\n\u001b[1;32m     24\u001b[0m \u001b[0;34m\u001b[0m\u001b[0m\n\u001b[0;32m---> 25\u001b[0;31m     \u001b[0;32mdef\u001b[0m \u001b[0m__getattr__\u001b[0m\u001b[0;34m(\u001b[0m\u001b[0mself\u001b[0m\u001b[0;34m,\u001b[0m \u001b[0mattr\u001b[0m\u001b[0;34m)\u001b[0m\u001b[0;34m:\u001b[0m\u001b[0;34m\u001b[0m\u001b[0;34m\u001b[0m\u001b[0m\n\u001b[0m\u001b[1;32m     26\u001b[0m         \u001b[0;32mreturn\u001b[0m \u001b[0mgetattr\u001b[0m\u001b[0;34m(\u001b[0m\u001b[0mself\u001b[0m\u001b[0;34m.\u001b[0m\u001b[0mvf\u001b[0m\u001b[0;34m,\u001b[0m \u001b[0mattr\u001b[0m\u001b[0;34m)\u001b[0m\u001b[0;34m\u001b[0m\u001b[0;34m\u001b[0m\u001b[0m\n\u001b[1;32m     27\u001b[0m \u001b[0;34m\u001b[0m\u001b[0m\n",
            "\u001b[0;31mKeyboardInterrupt\u001b[0m: "
          ]
        }
      ],
      "source": [
        "# Experiment 1b\n",
        "training_sizes = [1, 2, 4, 8, 16, 32, 64]\n",
        "size_accs = []\n",
        "for size in training_sizes:\n",
        "    src_vocab, tgt_vocab, train_dataset, test_loader = prepare_data(data_path+f\"simple_split/size_variations/tasks_train_simple_p{size}.txt\", \n",
        "                                                                    data_path+f\"simple_split/size_variations/tasks_test_simple_p{size}.txt\")\n",
        "    interpreter = Interpreter(src_vocab, tgt_vocab, hidden_size=200,\n",
        "                              num_layers=2, dropout=0, rnn_type=\"lstm\")\n",
        "    interpreter, losses= train(interpreter, train_dataset)\n",
        "    acc = evaluate(interpreter, test_loader)\n",
        "    size_accs.append(acc)\n",
        "\n",
        "plot_bar(training_sizes, size_accs, \n",
        "         \"Experiment 1b\",\n",
        "         \"Percent of commands used for training\",\n",
        "         \"Accuracy on new commands (%)\")\n",
        "\n",
        "# SAVE DATA 1B\n",
        "\n",
        "# save training_sizes and size_accs as npy in one file\n",
        "date = datetime.datetime.now().strftime(\"%Y-%m-%d_%H-%M-%S\")\n",
        "file_name = \"test_accs_1b_and_training_sizes\" + date + \".npy\"\n",
        "file_path = data_path+\"results/\"+file_name\n",
        "np.save(file_path, [training_sizes, size_accs])\n",
        "\n",
        "# LOAD DATA 1B\n",
        "#path = data_path+\"results/\"+ FILENAME\n",
        "# training_sizes, size_accs = np.load(path, allow_pickle=True)\n",
        "# plot_bar(training_sizes, size_accs,\n",
        "#             \"Experiment 1b\",\n",
        "#             \"Percent of commands used for training\",\n",
        "#             \"Accuracy on new commands (%)\")\n"
      ]
    },
    {
      "cell_type": "code",
      "execution_count": null,
      "metadata": {
        "id": "ekm3xIFhQxbx",
        "outputId": "05f4061a-c1f0-4c9d-d97b-416caeec2140"
      },
      "outputs": [
        {
          "name": "stdout",
          "output_type": "stream",
          "text": [
            "Training...\n"
          ]
        },
        {
          "name": "stderr",
          "output_type": "stream",
          "text": [
            "  0%|          | 97/100000 [00:09<2:39:22, 10.45it/s, loss=1.87]\n"
          ]
        }
      ],
      "source": [
        "# run experiment 1b five times\n",
        "training_sizes = [1, 2, 4, 8, 16, 32, 64]\n",
        "size_accs = []\n",
        "for i in range(5):\n",
        "    accs_i = []\n",
        "    for size in training_sizes:\n",
        "        src_vocab, tgt_vocab, train_dataset, test_loader = prepare_data(data_path+f\"simple_split/size_variations/tasks_train_simple_p{size}.txt\", \n",
        "                                                                        data_path+f\"simple_split/size_variations/tasks_test_simple_p{size}.txt\")\n",
        "        interpreter = Interpreter(src_vocab, tgt_vocab, hidden_size=200,\n",
        "                                  num_layers=2, dropout=0, rnn_type=\"lstm\")\n",
        "        interpreter, losses= train(interpreter, train_dataset)\n",
        "        acc = evaluate(interpreter, test_loader)\n",
        "        accs_i.append(acc)\n",
        "    size_accs.append(accs_i)\n",
        "\n",
        "size_accs_avg = np.mean(size_accs, axis=0)\n",
        "plot_bar(training_sizes, size_accs_avg,\n",
        "            \"Experiment 1b - avg 5 runs\",\n",
        "            \"Percent of commands used for training\",\n",
        "            \"Accuracy on new commands (%)\")\n",
        "\n",
        "\n",
        "# save training_sizes and size_accs as npy in one file\n",
        "date = datetime.datetime.now().strftime(\"%Y-%m-%d_%H-%M-%S\")\n",
        "file_name = \"test_accs_1b_5_runs_and_training_sizes\" + date + \".npy\"\n",
        "file_path = data_path+\"results/\"+file_name\n",
        "np.save(file_path, [training_sizes, size_accs])"
      ]
    },
    {
      "cell_type": "markdown",
      "metadata": {
        "id": "5zAL108S8k7B"
      },
      "source": [
        "## Experiment 2"
      ]
    },
    {
      "cell_type": "code",
      "execution_count": 37,
      "metadata": {
        "id": "rPrjcCVg9-qx"
      },
      "outputs": [],
      "source": [
        "class ScanDataset(Dataset):\n",
        "    \"\"\"Class containing the Scan dataset.\"\"\"\n",
        "\n",
        "    def __init__(self, src_vocab, tgt_vocab, filename, row_filter=None, debug=False):\n",
        "        self.src_vocab = src_vocab\n",
        "        self.tgt_vocab = tgt_vocab\n",
        "        # Each command/action is encoded with the corresponding vocab ID.\n",
        "        self.src = []\n",
        "        self.tgt = []\n",
        "        for s, t in load_data(filename):\n",
        "            if debug:\n",
        "                print(len(t), (len(s)))\n",
        "            if not row_filter or row_filter(s, t):\n",
        "                self.src.append([self.src_vocab.get(w, 3) for w in s])\n",
        "                self.tgt.append([self.tgt_vocab.get(w, 3) for w in t] + [2])\n",
        "                \n",
        "    def __getitem__(self, idx):\n",
        "        return self.src[idx], self.tgt[idx]\n",
        "\n",
        "    def __len__(self):\n",
        "        return len(self.src)"
      ]
    },
    {
      "cell_type": "code",
      "execution_count": 40,
      "metadata": {
        "id": "vV9iaF180yZ-",
        "outputId": "98568f38-a968-4c04-be82-490e2129a465",
        "colab": {
          "base_uri": "https://localhost:8080/",
          "height": 84,
          "referenced_widgets": [
            "f04d2fb78df04f06a50fce55f998188e",
            "b5ecea68a7cc410688e92086e83a418e",
            "6c716055fe0a4f01a98d4f4f609a00d5",
            "017767590fa04a01945bb57fe40428fe",
            "4929f926a08b4ac7adbcdd078265702c",
            "cc5411fb20504f299695931184a8bd0c",
            "de39d9ceaa7a474ca6b09d1715703c5b",
            "50c7f1b531ff4f3e8659fece623315b8",
            "b812fbc57f6b4d49b8b379a22ffc71a1",
            "a1f1a4b8240740249c11608f7f587853",
            "a1b2afd7647346ecac4e294497efdfcb"
          ]
        }
      },
      "outputs": [
        {
          "output_type": "stream",
          "name": "stdout",
          "text": [
            "Training...\n"
          ]
        },
        {
          "output_type": "display_data",
          "data": {
            "text/plain": [
              "  0%|          | 0/100000 [00:00<?, ?it/s]"
            ],
            "application/vnd.jupyter.widget-view+json": {
              "version_major": 2,
              "version_minor": 0,
              "model_id": "f04d2fb78df04f06a50fce55f998188e"
            }
          },
          "metadata": {}
        },
        {
          "output_type": "stream",
          "name": "stdout",
          "text": [
            "Length split test accuracy: 0.18035714285714285\n"
          ]
        }
      ],
      "source": [
        "src_vocab, tgt_vocab, train_dataset, test_loader = prepare_data(data_path+\"length_split/tasks_train_length.txt\", \n",
        "                                                                data_path+\"length_split/tasks_test_length.txt\")\n",
        "interpreter = Interpreter(src_vocab, tgt_vocab, hidden_size=200, \n",
        "                          num_layers=2, dropout=0, rnn_type=\"lstm\")\n",
        "interpreter, losses = train(interpreter, train_dataset)\n",
        "print(f\"Length split test accuracy: {evaluate(interpreter, test_loader)}\")"
      ]
    },
    {
      "cell_type": "code",
      "execution_count": 41,
      "metadata": {
        "id": "sEymQ1yNQxbz",
        "outputId": "41b35b77-c710-4c8f-c39f-a4063c8c5af5",
        "colab": {
          "base_uri": "https://localhost:8080/",
          "height": 350
        }
      },
      "outputs": [
        {
          "output_type": "display_data",
          "data": {
            "text/plain": [
              "<Figure size 576x360 with 1 Axes>"
            ],
            "image/png": "[encoded data removed]"
          },
          "metadata": {
            "needs_background": "light"
          }
        }
      ],
      "source": [
        "plot_losses(losses, \"Losses\", \"Epoch\", \"Loss\", fig_size = (8,5))"
      ]
    },
    {
      "cell_type": "code",
      "execution_count": 44,
      "metadata": {
        "colab": {
          "base_uri": "https://localhost:8080/",
          "height": 364
        },
        "id": "OEdULB34srpf",
        "outputId": "eca9e3bf-c84e-42c9-cb45-fc03829eb90c"
      },
      "outputs": [
        {
          "output_type": "display_data",
          "data": {
            "text/plain": [
              "<Figure size 576x360 with 1 Axes>"
            ],
            "image/png": "[encoded data removed]"
          },
          "metadata": {
            "needs_background": "light"
          }
        }
      ],
      "source": [
        "import datetime\n",
        "\n",
        "lengths = [24, 25, 26, 27, 28, 30, 32, 33, 36, 40, 48]\n",
        "length_accs = []\n",
        "for length in lengths:\n",
        "    row_filter = lambda s, t: len(t) == length\n",
        "    length_test_dataset = ScanDataset(\n",
        "        src_vocab, tgt_vocab,\n",
        "        data_path+\"length_split/tasks_test_length.txt\",\n",
        "        row_filter=row_filter,\n",
        "        debug=False\n",
        "    )\n",
        "\n",
        "    length_test_loader = DataLoader(length_test_dataset, batch_size=32, shuffle=True, collate_fn=batcher)\n",
        "    acc = evaluate(interpreter, length_test_loader)\n",
        "    length_accs.append(acc)\n",
        "\n",
        "plot_bar(lengths, length_accs, \n",
        "         \"Experiment 2\",\n",
        "         \"Ground-truth action sequence length\",\n",
        "         \"Accuracy on new commands (%)\",\n",
        "         percentages=False)\n",
        "\n",
        "# SAVE DATA LENGTH ACCURACIES with lengths\n",
        "date = datetime.datetime.now().strftime(\"%Y-%m-%d_%H-%M-%S\")\n",
        "file_name = \"exp2_length_accs_24_to_48\" + date + \".npy\"\n",
        "file_path = data_path+\"results/\"+file_name\n",
        "np.save(file_path, [lengths, length_accs])\n",
        "\n",
        "# LOAD DATA LENGTH ACCURACIES \n",
        "# \n",
        "#path = data_path+\"results/\" + (insert FILENAME)\n",
        "# lengths, length_accs = np.load(path, allow_pickle=True)\n",
        "# plot_bar(lengths, length_accs,\n",
        "#             \"Experiment 2\",\n",
        "#             \"Ground-truth action sequence length\",\n",
        "#             \"Accuracy on new commands (%)\",\n",
        "#             percentages=False)\n",
        "\n",
        "\n",
        "\n"
      ]
    },
    {
      "cell_type": "code",
      "execution_count": 46,
      "metadata": {
        "colab": {
          "base_uri": "https://localhost:8080/",
          "height": 360
        },
        "id": "tgz6P3b39zlY",
        "outputId": "abafa0a8-c03a-413e-a245-7fef016535b4"
      },
      "outputs": [
        {
          "output_type": "display_data",
          "data": {
            "text/plain": [
              "<Figure size 576x360 with 1 Axes>"
            ],
            "image/png": "[encoded data removed]"
          },
          "metadata": {
            "needs_background": "light"
          }
        }
      ],
      "source": [
        "command_lengths = [4, 6, 7, 8, 9]\n",
        "command_length_accs = []\n",
        "for command_length in command_lengths:\n",
        "    row_filter = lambda s, t: len(s) == command_length\n",
        "    command_length_test_dataset = ScanDataset(\n",
        "        src_vocab, tgt_vocab,\n",
        "        data_path+\"length_split/tasks_test_length.txt\",\n",
        "        row_filter=row_filter\n",
        "    )\n",
        "\n",
        "    command_length_test_loader = DataLoader(command_length_test_dataset, batch_size=32, shuffle=True, collate_fn=batcher)\n",
        "    acc = evaluate(interpreter, command_length_test_loader)\n",
        "    command_length_accs.append(acc)\n",
        "\n",
        "plot_bar(command_lengths, command_length_accs, \n",
        "         \"Experiment 2\",\n",
        "         \"Command length\",\n",
        "         \"Accuracy on new commands (%)\", \n",
        "         percentages=False)\n",
        "\n",
        "# SAVE DATA COMMAND LENGTH ACCURACIES with command_lengths\n",
        "date = datetime.datetime.now().strftime(\"%Y-%m-%d_%H-%M-%S\")\n",
        "file_name = \"exp2_command_length_accs_4_to_9\" + date + \".npy\"\n",
        "file_path = data_path+\"results/\"+file_name\n",
        "np.save(file_path, [command_lengths, command_length_accs])\n",
        "\n",
        "# LOAD DATA COMMAND LENGTH ACCURACIES\n",
        "#path = data_path+\"results/\" + (insert FILENAME)\n",
        "# command_lengths, command_length_accs = np.load(path, allow_pickle=True)\n",
        "# plot_bar(command_lengths, command_length_accs,\n",
        "#             \"Experiment 2\",\n",
        "#             \"Command length\",\n",
        "#             \"Accuracy on new commands (%)\",\n",
        "#             percentages=False)\n",
        "\n"
      ]
    },
    {
      "cell_type": "markdown",
      "metadata": {
        "id": "EDul758yCXSW"
      },
      "source": [
        "## Experiment 3"
      ]
    },
    {
      "cell_type": "code",
      "execution_count": null,
      "metadata": {
        "id": "uy95t_YlQxb0"
      },
      "outputs": [],
      "source": [
        "# two variants : add prim jump and add prim turn_left\n",
        "# load data from add_prim_split folder\n",
        "path_train_jump = data_path+\"add_prim_split/tasks_train_addprim_jump.txt\"\n",
        "path_test_jump = data_path+\"add_prim_split/tasks_test_addprim_jump.txt\"\n",
        "path_train_turn_left = data_path+\"add_prim_split/tasks_train_addprim_turn_left.txt\"\n",
        "path_test_turn_left = data_path+\"add_prim_split/tasks_test_addprim_turn_left.txt\""
      ]
    },
    {
      "cell_type": "markdown",
      "metadata": {
        "id": "8fRxRuJKQxb1"
      },
      "source": [
        "### jump primitive - experiment 3"
      ]
    },
    {
      "cell_type": "code",
      "execution_count": null,
      "metadata": {
        "id": "TWNqZw7yQxb1",
        "outputId": "5eb7cce2-7301-4cea-a9c6-b9a30b5438d0"
      },
      "outputs": [
        {
          "ename": "KeyboardInterrupt",
          "evalue": "",
          "output_type": "error",
          "traceback": [
            "\u001b[0;31m---------------------------------------------------------------------------\u001b[0m",
            "\u001b[0;31mKeyboardInterrupt\u001b[0m                         Traceback (most recent call last)",
            "\u001b[0;32m/var/folders/1_/6bxc51z14nndl1btc19vdzp40000gn/T/ipykernel_22358/2559245190.py\u001b[0m in \u001b[0;36m<module>\u001b[0;34m\u001b[0m\n\u001b[1;32m      4\u001b[0m \u001b[0minterpreter_jump\u001b[0m \u001b[0;34m=\u001b[0m \u001b[0mInterpreter\u001b[0m\u001b[0;34m(\u001b[0m\u001b[0msrc_vocab\u001b[0m\u001b[0;34m,\u001b[0m \u001b[0mtgt_vocab\u001b[0m\u001b[0;34m,\u001b[0m \u001b[0mhidden_size\u001b[0m\u001b[0;34m=\u001b[0m\u001b[0;36m100\u001b[0m\u001b[0;34m,\u001b[0m \u001b[0mnum_layers\u001b[0m\u001b[0;34m=\u001b[0m\u001b[0;36m2\u001b[0m\u001b[0;34m,\u001b[0m \u001b[0mattention\u001b[0m\u001b[0;34m=\u001b[0m\u001b[0;32mTrue\u001b[0m\u001b[0;34m,\u001b[0m \u001b[0mdropout\u001b[0m\u001b[0;34m=\u001b[0m\u001b[0;36m0.1\u001b[0m\u001b[0;34m,\u001b[0m \u001b[0mrnn_type\u001b[0m\u001b[0;34m=\u001b[0m\u001b[0;34m\"lstm\"\u001b[0m\u001b[0;34m)\u001b[0m\u001b[0;34m\u001b[0m\u001b[0;34m\u001b[0m\u001b[0m\n\u001b[1;32m      5\u001b[0m \u001b[0;31m# train and evaluate\u001b[0m\u001b[0;34m\u001b[0m\u001b[0;34m\u001b[0m\u001b[0m\n\u001b[0;32m----> 6\u001b[0;31m \u001b[0minterpreter_jump\u001b[0m\u001b[0;34m,\u001b[0m \u001b[0mlosses_jump\u001b[0m \u001b[0;34m=\u001b[0m \u001b[0mtrain\u001b[0m\u001b[0;34m(\u001b[0m\u001b[0minterpreter_jump\u001b[0m\u001b[0;34m,\u001b[0m \u001b[0mtrain_dataset_jump\u001b[0m\u001b[0;34m)\u001b[0m\u001b[0;34m\u001b[0m\u001b[0;34m\u001b[0m\u001b[0m\n\u001b[0m\u001b[1;32m      7\u001b[0m \u001b[0mprint\u001b[0m\u001b[0;34m(\u001b[0m\u001b[0;34mf\"Add prim jump test accuracy: {evaluate(interpreter_jump, test_loader_jump)}\"\u001b[0m\u001b[0;34m)\u001b[0m\u001b[0;34m\u001b[0m\u001b[0;34m\u001b[0m\u001b[0m\n\u001b[1;32m      8\u001b[0m \u001b[0;34m\u001b[0m\u001b[0m\n",
            "\u001b[0;32m/var/folders/1_/6bxc51z14nndl1btc19vdzp40000gn/T/ipykernel_22358/1696202651.py\u001b[0m in \u001b[0;36mtrain\u001b[0;34m(interpreter, train_dataset, n_trials, batch_size, lr)\u001b[0m\n\u001b[1;32m     11\u001b[0m \u001b[0;34m\u001b[0m\u001b[0m\n\u001b[1;32m     12\u001b[0m     \u001b[0;31m# Calculate initial accuracy\u001b[0m\u001b[0;34m\u001b[0m\u001b[0;34m\u001b[0m\u001b[0m\n\u001b[0;32m---> 13\u001b[0;31m     \u001b[0mtrain_accuracy\u001b[0m \u001b[0;34m=\u001b[0m \u001b[0mevaluate\u001b[0m\u001b[0;34m(\u001b[0m\u001b[0minterpreter\u001b[0m\u001b[0;34m,\u001b[0m \u001b[0mtrain_loader\u001b[0m\u001b[0;34m)\u001b[0m\u001b[0;34m\u001b[0m\u001b[0;34m\u001b[0m\u001b[0m\n\u001b[0m\u001b[1;32m     14\u001b[0m \u001b[0;34m\u001b[0m\u001b[0m\n\u001b[1;32m     15\u001b[0m     \u001b[0;31m# Make it possible to interrupt the training\u001b[0m\u001b[0;34m\u001b[0m\u001b[0;34m\u001b[0m\u001b[0m\n",
            "\u001b[0;32m/var/folders/1_/6bxc51z14nndl1btc19vdzp40000gn/T/ipykernel_22358/3741318953.py\u001b[0m in \u001b[0;36mevaluate\u001b[0;34m(interpreter, data_loader)\u001b[0m\n\u001b[1;32m     10\u001b[0m         \u001b[0;31m# Generate actions\u001b[0m\u001b[0;34m\u001b[0m\u001b[0;34m\u001b[0m\u001b[0m\n\u001b[1;32m     11\u001b[0m         \u001b[0;32mwith\u001b[0m \u001b[0mtorch\u001b[0m\u001b[0;34m.\u001b[0m\u001b[0mno_grad\u001b[0m\u001b[0;34m(\u001b[0m\u001b[0;34m)\u001b[0m\u001b[0;34m:\u001b[0m\u001b[0;34m\u001b[0m\u001b[0;34m\u001b[0m\u001b[0m\n\u001b[0;32m---> 12\u001b[0;31m             \u001b[0mpreds\u001b[0m \u001b[0;34m=\u001b[0m \u001b[0minterpreter\u001b[0m\u001b[0;34m.\u001b[0m\u001b[0mmodel\u001b[0m\u001b[0;34m.\u001b[0m\u001b[0mdecode\u001b[0m\u001b[0;34m(\u001b[0m\u001b[0msrc_batch\u001b[0m\u001b[0;34m,\u001b[0m \u001b[0mtgt_len\u001b[0m\u001b[0;34m)\u001b[0m\u001b[0;34m\u001b[0m\u001b[0;34m\u001b[0m\u001b[0m\n\u001b[0m\u001b[1;32m     13\u001b[0m \u001b[0;34m\u001b[0m\u001b[0m\n\u001b[1;32m     14\u001b[0m         \u001b[0;32mif\u001b[0m \u001b[0minterpreter\u001b[0m\u001b[0;34m.\u001b[0m\u001b[0mmodel\u001b[0m\u001b[0;34m.\u001b[0m\u001b[0mattention\u001b[0m \u001b[0;34m==\u001b[0m \u001b[0;32mTrue\u001b[0m\u001b[0;34m:\u001b[0m\u001b[0;34m\u001b[0m\u001b[0;34m\u001b[0m\u001b[0m\n",
            "\u001b[0;32m/var/folders/1_/6bxc51z14nndl1btc19vdzp40000gn/T/ipykernel_22358/2208708132.py\u001b[0m in \u001b[0;36mdecode\u001b[0;34m(self, src, max_len)\u001b[0m\n\u001b[1;32m     36\u001b[0m         \u001b[0;32mif\u001b[0m \u001b[0mself\u001b[0m\u001b[0;34m.\u001b[0m\u001b[0mattention\u001b[0m \u001b[0;34m==\u001b[0m \u001b[0;32mTrue\u001b[0m\u001b[0;34m:\u001b[0m\u001b[0;34m\u001b[0m\u001b[0;34m\u001b[0m\u001b[0m\n\u001b[1;32m     37\u001b[0m           \u001b[0;31m#mask:mask(if src==0: True)\u001b[0m\u001b[0;34m\u001b[0m\u001b[0;34m\u001b[0m\u001b[0m\n\u001b[0;32m---> 38\u001b[0;31m           \u001b[0mgenerated\u001b[0m\u001b[0;34m,\u001b[0m \u001b[0m_\u001b[0m\u001b[0;34m,\u001b[0m \u001b[0matten_weights\u001b[0m \u001b[0;34m=\u001b[0m \u001b[0mself\u001b[0m\u001b[0;34m.\u001b[0m\u001b[0mdecoder\u001b[0m\u001b[0;34m.\u001b[0m\u001b[0mdecode\u001b[0m\u001b[0;34m(\u001b[0m\u001b[0mencoder_output\u001b[0m\u001b[0;34m,\u001b[0m \u001b[0mhidden\u001b[0m\u001b[0;34m,\u001b[0m \u001b[0mmax_len\u001b[0m\u001b[0;34m,\u001b[0m \u001b[0msrc\u001b[0m\u001b[0;34m==\u001b[0m\u001b[0;36m0\u001b[0m\u001b[0;34m)\u001b[0m\u001b[0;34m\u001b[0m\u001b[0;34m\u001b[0m\u001b[0m\n\u001b[0m\u001b[1;32m     39\u001b[0m           \u001b[0;32mreturn\u001b[0m \u001b[0mgenerated\u001b[0m\u001b[0;34m,\u001b[0m \u001b[0matten_weights\u001b[0m\u001b[0;34m\u001b[0m\u001b[0;34m\u001b[0m\u001b[0m\n\u001b[1;32m     40\u001b[0m           \u001b[0;31m#return self.decoder.decode(encoder_output, hidden, max_len, src==0)[0]\u001b[0m\u001b[0;34m\u001b[0m\u001b[0;34m\u001b[0m\u001b[0m\n",
            "\u001b[0;32m/var/folders/1_/6bxc51z14nndl1btc19vdzp40000gn/T/ipykernel_22358/370990787.py\u001b[0m in \u001b[0;36mdecode\u001b[0;34m(self, encoder_output, hidden, max_len, mask)\u001b[0m\n\u001b[1;32m     50\u001b[0m         \u001b[0;32mfor\u001b[0m \u001b[0mi\u001b[0m \u001b[0;32min\u001b[0m \u001b[0mrange\u001b[0m\u001b[0;34m(\u001b[0m\u001b[0mmax_len\u001b[0m\u001b[0;34m)\u001b[0m\u001b[0;34m:\u001b[0m\u001b[0;34m\u001b[0m\u001b[0;34m\u001b[0m\u001b[0m\n\u001b[1;32m     51\u001b[0m             \u001b[0;31m# Get the embedding for the previous action (in each sequence)\u001b[0m\u001b[0;34m\u001b[0m\u001b[0;34m\u001b[0m\u001b[0m\n\u001b[0;32m---> 52\u001b[0;31m             \u001b[0mprev_embedded\u001b[0m \u001b[0;34m=\u001b[0m \u001b[0mself\u001b[0m\u001b[0;34m.\u001b[0m\u001b[0membedding\u001b[0m\u001b[0;34m(\u001b[0m\u001b[0mgenerated\u001b[0m\u001b[0;34m[\u001b[0m\u001b[0;34m-\u001b[0m\u001b[0;36m1\u001b[0m\u001b[0;34m]\u001b[0m\u001b[0;34m)\u001b[0m\u001b[0;34m\u001b[0m\u001b[0;34m\u001b[0m\u001b[0m\n\u001b[0m\u001b[1;32m     53\u001b[0m             \u001b[0;31m# Take one step with the RNN\u001b[0m\u001b[0;34m\u001b[0m\u001b[0;34m\u001b[0m\u001b[0m\n\u001b[1;32m     54\u001b[0m             \u001b[0moutput\u001b[0m\u001b[0;34m,\u001b[0m \u001b[0mhidden\u001b[0m\u001b[0;34m,\u001b[0m \u001b[0matten_weight\u001b[0m \u001b[0;34m=\u001b[0m \u001b[0mself\u001b[0m\u001b[0;34m.\u001b[0m\u001b[0mstep\u001b[0m\u001b[0;34m(\u001b[0m\u001b[0mprev_embedded\u001b[0m\u001b[0;34m.\u001b[0m\u001b[0msqueeze\u001b[0m\u001b[0;34m(\u001b[0m\u001b[0;36m1\u001b[0m\u001b[0;34m)\u001b[0m\u001b[0;34m,\u001b[0m \u001b[0mhidden\u001b[0m\u001b[0;34m,\u001b[0m \u001b[0mencoder_output\u001b[0m\u001b[0;34m,\u001b[0m \u001b[0mmask\u001b[0m\u001b[0;34m)\u001b[0m\u001b[0;34m\u001b[0m\u001b[0;34m\u001b[0m\u001b[0m\n",
            "\u001b[0;32m/usr/local/lib/python3.9/site-packages/torch/nn/modules/module.py\u001b[0m in \u001b[0;36m__getattr__\u001b[0;34m(self, name)\u001b[0m\n\u001b[1;32m   1171\u001b[0m \u001b[0;34m\u001b[0m\u001b[0m\n\u001b[1;32m   1172\u001b[0m     \u001b[0;32mdef\u001b[0m \u001b[0m__getattr__\u001b[0m\u001b[0;34m(\u001b[0m\u001b[0mself\u001b[0m\u001b[0;34m,\u001b[0m \u001b[0mname\u001b[0m\u001b[0;34m:\u001b[0m \u001b[0mstr\u001b[0m\u001b[0;34m)\u001b[0m \u001b[0;34m->\u001b[0m \u001b[0mUnion\u001b[0m\u001b[0;34m[\u001b[0m\u001b[0mTensor\u001b[0m\u001b[0;34m,\u001b[0m \u001b[0;34m'Module'\u001b[0m\u001b[0;34m]\u001b[0m\u001b[0;34m:\u001b[0m\u001b[0;34m\u001b[0m\u001b[0;34m\u001b[0m\u001b[0m\n\u001b[0;32m-> 1173\u001b[0;31m         \u001b[0;32mif\u001b[0m \u001b[0;34m'_parameters'\u001b[0m \u001b[0;32min\u001b[0m \u001b[0mself\u001b[0m\u001b[0;34m.\u001b[0m\u001b[0m__dict__\u001b[0m\u001b[0;34m:\u001b[0m\u001b[0;34m\u001b[0m\u001b[0;34m\u001b[0m\u001b[0m\n\u001b[0m\u001b[1;32m   1174\u001b[0m             \u001b[0m_parameters\u001b[0m \u001b[0;34m=\u001b[0m \u001b[0mself\u001b[0m\u001b[0;34m.\u001b[0m\u001b[0m__dict__\u001b[0m\u001b[0;34m[\u001b[0m\u001b[0;34m'_parameters'\u001b[0m\u001b[0;34m]\u001b[0m\u001b[0;34m\u001b[0m\u001b[0;34m\u001b[0m\u001b[0m\n\u001b[1;32m   1175\u001b[0m             \u001b[0;32mif\u001b[0m \u001b[0mname\u001b[0m \u001b[0;32min\u001b[0m \u001b[0m_parameters\u001b[0m\u001b[0;34m:\u001b[0m\u001b[0;34m\u001b[0m\u001b[0;34m\u001b[0m\u001b[0m\n",
            "\u001b[0;31mKeyboardInterrupt\u001b[0m: "
          ]
        }
      ],
      "source": [
        "# make dataset and run experiment\n",
        "src_vocab, tgt_vocab, train_dataset_jump, test_loader_jump = prepare_data(path_train_jump, path_test_jump)\n",
        "# The best performance was 1.2% accuracy (LSTM, attention, one layer, 100 hidden units, dropout 0.1). \n",
        "interpreter_jump = Interpreter(src_vocab, tgt_vocab, hidden_size=100, num_layers=2, attention=True, dropout=0.1, rnn_type=\"lstm\")\n",
        "# train and evaluate\n",
        "interpreter_jump, losses_jump = train(interpreter_jump, train_dataset_jump)\n",
        "print(f\"Add prim jump test accuracy: {evaluate(interpreter_jump, test_loader_jump)}\")\n",
        "\n",
        "plot_losses(losses_jump, \"Losses\", \"Epoch\", \"Loss\", fig_size = (8,5))\n",
        "\n",
        "# save results and losses   \n",
        "date = datetime.datetime.now().strftime(\"%Y-%m-%d_%H-%M-%S\")\n",
        "acc_addprim_jump = evaluate(interpreter_jump, test_loader_jump)\n",
        "file_path = \"exp3_addprim_jump_acc\"+str(acc_addprim_jump)+\"_\"+date + \".npy\"\n",
        "np.save(file_path, losses_jump)\n",
        "\n",
        "# load results and losses\n",
        "#path = data_path+\"results/\" + (insert FILENAME)\n",
        "# losses_jump = np.load(path, allow_pickle=True)\n",
        "# plot_losses(losses_jump, \"Losses\", \"Epoch\", \"Loss\", fig_size = (8,5))\n",
        "\n"
      ]
    },
    {
      "cell_type": "markdown",
      "metadata": {
        "id": "lDtGobrFQxb2"
      },
      "source": [
        "### turn_left primitive - experiment 3"
      ]
    },
    {
      "cell_type": "code",
      "execution_count": null,
      "metadata": {
        "id": "OCcXkWkUQxb2",
        "outputId": "8702fa89-505f-414a-f8b3-970d0d332c1a"
      },
      "outputs": [
        {
          "name": "stderr",
          "output_type": "stream",
          "text": [
            "/usr/local/lib/python3.9/site-packages/torch/nn/modules/rnn.py:62: UserWarning: dropout option adds dropout after all but last recurrent layer, so non-zero dropout expects num_layers greater than 1, but got dropout=0.1 and num_layers=1\n",
            "  warnings.warn(\"dropout option adds dropout after all but last \"\n"
          ]
        },
        {
          "ename": "KeyboardInterrupt",
          "evalue": "",
          "output_type": "error",
          "traceback": [
            "\u001b[0;31m---------------------------------------------------------------------------\u001b[0m",
            "\u001b[0;31mKeyboardInterrupt\u001b[0m                         Traceback (most recent call last)",
            "\u001b[0;32m/var/folders/1_/6bxc51z14nndl1btc19vdzp40000gn/T/ipykernel_22358/1289955774.py\u001b[0m in \u001b[0;36m<module>\u001b[0;34m\u001b[0m\n\u001b[1;32m      3\u001b[0m \u001b[0minterpreter_turn_left\u001b[0m \u001b[0;34m=\u001b[0m \u001b[0mInterpreter\u001b[0m\u001b[0;34m(\u001b[0m\u001b[0msrc_vocab\u001b[0m\u001b[0;34m,\u001b[0m \u001b[0mtgt_vocab\u001b[0m\u001b[0;34m,\u001b[0m \u001b[0mhidden_size\u001b[0m\u001b[0;34m=\u001b[0m\u001b[0;36m100\u001b[0m\u001b[0;34m,\u001b[0m \u001b[0mnum_layers\u001b[0m\u001b[0;34m=\u001b[0m\u001b[0;36m1\u001b[0m\u001b[0;34m,\u001b[0m \u001b[0mattention\u001b[0m\u001b[0;34m=\u001b[0m\u001b[0;32mTrue\u001b[0m\u001b[0;34m,\u001b[0m \u001b[0mdropout\u001b[0m\u001b[0;34m=\u001b[0m\u001b[0;36m0.1\u001b[0m\u001b[0;34m,\u001b[0m \u001b[0mrnn_type\u001b[0m\u001b[0;34m=\u001b[0m\u001b[0;34m\"gru\"\u001b[0m\u001b[0;34m)\u001b[0m\u001b[0;34m\u001b[0m\u001b[0;34m\u001b[0m\u001b[0m\n\u001b[1;32m      4\u001b[0m \u001b[0;31m# train and evaluate\u001b[0m\u001b[0;34m\u001b[0m\u001b[0;34m\u001b[0m\u001b[0m\n\u001b[0;32m----> 5\u001b[0;31m \u001b[0minterpreter_turn_left\u001b[0m\u001b[0;34m,\u001b[0m \u001b[0mlosses_turn_left\u001b[0m \u001b[0;34m=\u001b[0m \u001b[0mtrain\u001b[0m\u001b[0;34m(\u001b[0m\u001b[0minterpreter_turn_left\u001b[0m\u001b[0;34m,\u001b[0m \u001b[0mtrain_dataset_turn_left\u001b[0m\u001b[0;34m)\u001b[0m\u001b[0;34m\u001b[0m\u001b[0;34m\u001b[0m\u001b[0m\n\u001b[0m\u001b[1;32m      6\u001b[0m \u001b[0mprint\u001b[0m\u001b[0;34m(\u001b[0m\u001b[0;34mf\"Add prim turn left test accuracy: {evaluate(interpreter_turn_left, test_loader_turn_left)}\"\u001b[0m\u001b[0;34m)\u001b[0m\u001b[0;34m\u001b[0m\u001b[0;34m\u001b[0m\u001b[0m\n\u001b[1;32m      7\u001b[0m \u001b[0;34m\u001b[0m\u001b[0m\n",
            "\u001b[0;32m/var/folders/1_/6bxc51z14nndl1btc19vdzp40000gn/T/ipykernel_22358/1696202651.py\u001b[0m in \u001b[0;36mtrain\u001b[0;34m(interpreter, train_dataset, n_trials, batch_size, lr)\u001b[0m\n\u001b[1;32m     11\u001b[0m \u001b[0;34m\u001b[0m\u001b[0m\n\u001b[1;32m     12\u001b[0m     \u001b[0;31m# Calculate initial accuracy\u001b[0m\u001b[0;34m\u001b[0m\u001b[0;34m\u001b[0m\u001b[0m\n\u001b[0;32m---> 13\u001b[0;31m     \u001b[0mtrain_accuracy\u001b[0m \u001b[0;34m=\u001b[0m \u001b[0mevaluate\u001b[0m\u001b[0;34m(\u001b[0m\u001b[0minterpreter\u001b[0m\u001b[0;34m,\u001b[0m \u001b[0mtrain_loader\u001b[0m\u001b[0;34m)\u001b[0m\u001b[0;34m\u001b[0m\u001b[0;34m\u001b[0m\u001b[0m\n\u001b[0m\u001b[1;32m     14\u001b[0m \u001b[0;34m\u001b[0m\u001b[0m\n\u001b[1;32m     15\u001b[0m     \u001b[0;31m# Make it possible to interrupt the training\u001b[0m\u001b[0;34m\u001b[0m\u001b[0;34m\u001b[0m\u001b[0m\n",
            "\u001b[0;32m/var/folders/1_/6bxc51z14nndl1btc19vdzp40000gn/T/ipykernel_22358/3741318953.py\u001b[0m in \u001b[0;36mevaluate\u001b[0;34m(interpreter, data_loader)\u001b[0m\n\u001b[1;32m     10\u001b[0m         \u001b[0;31m# Generate actions\u001b[0m\u001b[0;34m\u001b[0m\u001b[0;34m\u001b[0m\u001b[0m\n\u001b[1;32m     11\u001b[0m         \u001b[0;32mwith\u001b[0m \u001b[0mtorch\u001b[0m\u001b[0;34m.\u001b[0m\u001b[0mno_grad\u001b[0m\u001b[0;34m(\u001b[0m\u001b[0;34m)\u001b[0m\u001b[0;34m:\u001b[0m\u001b[0;34m\u001b[0m\u001b[0;34m\u001b[0m\u001b[0m\n\u001b[0;32m---> 12\u001b[0;31m             \u001b[0mpreds\u001b[0m \u001b[0;34m=\u001b[0m \u001b[0minterpreter\u001b[0m\u001b[0;34m.\u001b[0m\u001b[0mmodel\u001b[0m\u001b[0;34m.\u001b[0m\u001b[0mdecode\u001b[0m\u001b[0;34m(\u001b[0m\u001b[0msrc_batch\u001b[0m\u001b[0;34m,\u001b[0m \u001b[0mtgt_len\u001b[0m\u001b[0;34m)\u001b[0m\u001b[0;34m\u001b[0m\u001b[0;34m\u001b[0m\u001b[0m\n\u001b[0m\u001b[1;32m     13\u001b[0m \u001b[0;34m\u001b[0m\u001b[0m\n\u001b[1;32m     14\u001b[0m         \u001b[0;32mif\u001b[0m \u001b[0minterpreter\u001b[0m\u001b[0;34m.\u001b[0m\u001b[0mmodel\u001b[0m\u001b[0;34m.\u001b[0m\u001b[0mattention\u001b[0m \u001b[0;34m==\u001b[0m \u001b[0;32mTrue\u001b[0m\u001b[0;34m:\u001b[0m\u001b[0;34m\u001b[0m\u001b[0;34m\u001b[0m\u001b[0m\n",
            "\u001b[0;32m/var/folders/1_/6bxc51z14nndl1btc19vdzp40000gn/T/ipykernel_22358/2208708132.py\u001b[0m in \u001b[0;36mdecode\u001b[0;34m(self, src, max_len)\u001b[0m\n\u001b[1;32m     36\u001b[0m         \u001b[0;32mif\u001b[0m \u001b[0mself\u001b[0m\u001b[0;34m.\u001b[0m\u001b[0mattention\u001b[0m \u001b[0;34m==\u001b[0m \u001b[0;32mTrue\u001b[0m\u001b[0;34m:\u001b[0m\u001b[0;34m\u001b[0m\u001b[0;34m\u001b[0m\u001b[0m\n\u001b[1;32m     37\u001b[0m           \u001b[0;31m#mask:mask(if src==0: True)\u001b[0m\u001b[0;34m\u001b[0m\u001b[0;34m\u001b[0m\u001b[0m\n\u001b[0;32m---> 38\u001b[0;31m           \u001b[0mgenerated\u001b[0m\u001b[0;34m,\u001b[0m \u001b[0m_\u001b[0m\u001b[0;34m,\u001b[0m \u001b[0matten_weights\u001b[0m \u001b[0;34m=\u001b[0m \u001b[0mself\u001b[0m\u001b[0;34m.\u001b[0m\u001b[0mdecoder\u001b[0m\u001b[0;34m.\u001b[0m\u001b[0mdecode\u001b[0m\u001b[0;34m(\u001b[0m\u001b[0mencoder_output\u001b[0m\u001b[0;34m,\u001b[0m \u001b[0mhidden\u001b[0m\u001b[0;34m,\u001b[0m \u001b[0mmax_len\u001b[0m\u001b[0;34m,\u001b[0m \u001b[0msrc\u001b[0m\u001b[0;34m==\u001b[0m\u001b[0;36m0\u001b[0m\u001b[0;34m)\u001b[0m\u001b[0;34m\u001b[0m\u001b[0;34m\u001b[0m\u001b[0m\n\u001b[0m\u001b[1;32m     39\u001b[0m           \u001b[0;32mreturn\u001b[0m \u001b[0mgenerated\u001b[0m\u001b[0;34m,\u001b[0m \u001b[0matten_weights\u001b[0m\u001b[0;34m\u001b[0m\u001b[0;34m\u001b[0m\u001b[0m\n\u001b[1;32m     40\u001b[0m           \u001b[0;31m#return self.decoder.decode(encoder_output, hidden, max_len, src==0)[0]\u001b[0m\u001b[0;34m\u001b[0m\u001b[0;34m\u001b[0m\u001b[0m\n",
            "\u001b[0;32m/var/folders/1_/6bxc51z14nndl1btc19vdzp40000gn/T/ipykernel_22358/370990787.py\u001b[0m in \u001b[0;36mdecode\u001b[0;34m(self, encoder_output, hidden, max_len, mask)\u001b[0m\n\u001b[1;32m     52\u001b[0m             \u001b[0mprev_embedded\u001b[0m \u001b[0;34m=\u001b[0m \u001b[0mself\u001b[0m\u001b[0;34m.\u001b[0m\u001b[0membedding\u001b[0m\u001b[0;34m(\u001b[0m\u001b[0mgenerated\u001b[0m\u001b[0;34m[\u001b[0m\u001b[0;34m-\u001b[0m\u001b[0;36m1\u001b[0m\u001b[0;34m]\u001b[0m\u001b[0;34m)\u001b[0m\u001b[0;34m\u001b[0m\u001b[0;34m\u001b[0m\u001b[0m\n\u001b[1;32m     53\u001b[0m             \u001b[0;31m# Take one step with the RNN\u001b[0m\u001b[0;34m\u001b[0m\u001b[0;34m\u001b[0m\u001b[0m\n\u001b[0;32m---> 54\u001b[0;31m             \u001b[0moutput\u001b[0m\u001b[0;34m,\u001b[0m \u001b[0mhidden\u001b[0m\u001b[0;34m,\u001b[0m \u001b[0matten_weight\u001b[0m \u001b[0;34m=\u001b[0m \u001b[0mself\u001b[0m\u001b[0;34m.\u001b[0m\u001b[0mstep\u001b[0m\u001b[0;34m(\u001b[0m\u001b[0mprev_embedded\u001b[0m\u001b[0;34m.\u001b[0m\u001b[0msqueeze\u001b[0m\u001b[0;34m(\u001b[0m\u001b[0;36m1\u001b[0m\u001b[0;34m)\u001b[0m\u001b[0;34m,\u001b[0m \u001b[0mhidden\u001b[0m\u001b[0;34m,\u001b[0m \u001b[0mencoder_output\u001b[0m\u001b[0;34m,\u001b[0m \u001b[0mmask\u001b[0m\u001b[0;34m)\u001b[0m\u001b[0;34m\u001b[0m\u001b[0;34m\u001b[0m\u001b[0m\n\u001b[0m\u001b[1;32m     55\u001b[0m             \u001b[0;31m# Update the list of generated actions (in each sequence)\u001b[0m\u001b[0;34m\u001b[0m\u001b[0;34m\u001b[0m\u001b[0m\n\u001b[1;32m     56\u001b[0m             \u001b[0mgenerated\u001b[0m\u001b[0;34m.\u001b[0m\u001b[0mappend\u001b[0m\u001b[0;34m(\u001b[0m\u001b[0moutput\u001b[0m\u001b[0;34m.\u001b[0m\u001b[0margmax\u001b[0m\u001b[0;34m(\u001b[0m\u001b[0;34m-\u001b[0m\u001b[0;36m1\u001b[0m\u001b[0;34m)\u001b[0m\u001b[0;34m)\u001b[0m\u001b[0;34m\u001b[0m\u001b[0;34m\u001b[0m\u001b[0m\n",
            "\u001b[0;32m/var/folders/1_/6bxc51z14nndl1btc19vdzp40000gn/T/ipykernel_22358/370990787.py\u001b[0m in \u001b[0;36mstep\u001b[0;34m(self, input, hidden, encoder_output, mask)\u001b[0m\n\u001b[1;32m     67\u001b[0m         \u001b[0minput_rnn\u001b[0m \u001b[0;34m=\u001b[0m \u001b[0mtorch\u001b[0m\u001b[0;34m.\u001b[0m\u001b[0mcat\u001b[0m\u001b[0;34m(\u001b[0m\u001b[0;34m[\u001b[0m\u001b[0mcontext\u001b[0m\u001b[0;34m,\u001b[0m \u001b[0minput\u001b[0m\u001b[0;34m]\u001b[0m\u001b[0;34m,\u001b[0m \u001b[0mdim\u001b[0m\u001b[0;34m=\u001b[0m\u001b[0;36m1\u001b[0m\u001b[0;34m)\u001b[0m\u001b[0;34m\u001b[0m\u001b[0;34m\u001b[0m\u001b[0m\n\u001b[1;32m     68\u001b[0m         \u001b[0minput_rnn\u001b[0m \u001b[0;34m=\u001b[0m \u001b[0mself\u001b[0m\u001b[0;34m.\u001b[0m\u001b[0mattn_combine\u001b[0m\u001b[0;34m(\u001b[0m\u001b[0minput_rnn\u001b[0m\u001b[0;34m)\u001b[0m\u001b[0;34m\u001b[0m\u001b[0;34m\u001b[0m\u001b[0m\n\u001b[0;32m---> 69\u001b[0;31m         \u001b[0moutput_rnn\u001b[0m\u001b[0;34m,\u001b[0m \u001b[0mhidden\u001b[0m \u001b[0;34m=\u001b[0m \u001b[0mself\u001b[0m\u001b[0;34m.\u001b[0m\u001b[0mrnn\u001b[0m\u001b[0;34m(\u001b[0m\u001b[0minput_rnn\u001b[0m\u001b[0;34m.\u001b[0m\u001b[0munsqueeze\u001b[0m\u001b[0;34m(\u001b[0m\u001b[0;36m1\u001b[0m\u001b[0;34m)\u001b[0m\u001b[0;34m,\u001b[0m \u001b[0mhidden\u001b[0m\u001b[0;34m)\u001b[0m\u001b[0;34m\u001b[0m\u001b[0;34m\u001b[0m\u001b[0m\n\u001b[0m\u001b[1;32m     70\u001b[0m         \u001b[0minput_linear\u001b[0m \u001b[0;34m=\u001b[0m \u001b[0mtorch\u001b[0m\u001b[0;34m.\u001b[0m\u001b[0mcat\u001b[0m\u001b[0;34m(\u001b[0m\u001b[0;34m[\u001b[0m\u001b[0moutput_rnn\u001b[0m\u001b[0;34m.\u001b[0m\u001b[0msqueeze\u001b[0m\u001b[0;34m(\u001b[0m\u001b[0;36m1\u001b[0m\u001b[0;34m)\u001b[0m\u001b[0;34m,\u001b[0m\u001b[0minput\u001b[0m\u001b[0;34m]\u001b[0m\u001b[0;34m,\u001b[0m \u001b[0mdim\u001b[0m\u001b[0;34m=\u001b[0m\u001b[0;36m1\u001b[0m\u001b[0;34m)\u001b[0m\u001b[0;34m\u001b[0m\u001b[0;34m\u001b[0m\u001b[0m\n\u001b[1;32m     71\u001b[0m         \u001b[0moutput_linear\u001b[0m \u001b[0;34m=\u001b[0m \u001b[0mself\u001b[0m\u001b[0;34m.\u001b[0m\u001b[0mlinear\u001b[0m\u001b[0;34m(\u001b[0m\u001b[0minput_linear\u001b[0m\u001b[0;34m)\u001b[0m\u001b[0;34m\u001b[0m\u001b[0;34m\u001b[0m\u001b[0m\n",
            "\u001b[0;32m/usr/local/lib/python3.9/site-packages/torch/nn/modules/module.py\u001b[0m in \u001b[0;36m_call_impl\u001b[0;34m(self, *input, **kwargs)\u001b[0m\n\u001b[1;32m   1108\u001b[0m         if not (self._backward_hooks or self._forward_hooks or self._forward_pre_hooks or _global_backward_hooks\n\u001b[1;32m   1109\u001b[0m                 or _global_forward_hooks or _global_forward_pre_hooks):\n\u001b[0;32m-> 1110\u001b[0;31m             \u001b[0;32mreturn\u001b[0m \u001b[0mforward_call\u001b[0m\u001b[0;34m(\u001b[0m\u001b[0;34m*\u001b[0m\u001b[0minput\u001b[0m\u001b[0;34m,\u001b[0m \u001b[0;34m**\u001b[0m\u001b[0mkwargs\u001b[0m\u001b[0;34m)\u001b[0m\u001b[0;34m\u001b[0m\u001b[0;34m\u001b[0m\u001b[0m\n\u001b[0m\u001b[1;32m   1111\u001b[0m         \u001b[0;31m# Do not call functions when jit is used\u001b[0m\u001b[0;34m\u001b[0m\u001b[0;34m\u001b[0m\u001b[0m\n\u001b[1;32m   1112\u001b[0m         \u001b[0mfull_backward_hooks\u001b[0m\u001b[0;34m,\u001b[0m \u001b[0mnon_full_backward_hooks\u001b[0m \u001b[0;34m=\u001b[0m \u001b[0;34m[\u001b[0m\u001b[0;34m]\u001b[0m\u001b[0;34m,\u001b[0m \u001b[0;34m[\u001b[0m\u001b[0;34m]\u001b[0m\u001b[0;34m\u001b[0m\u001b[0;34m\u001b[0m\u001b[0m\n",
            "\u001b[0;32m/usr/local/lib/python3.9/site-packages/torch/nn/modules/rnn.py\u001b[0m in \u001b[0;36mforward\u001b[0;34m(self, input, hx)\u001b[0m\n\u001b[1;32m    921\u001b[0m                     \u001b[0mhx\u001b[0m \u001b[0;34m=\u001b[0m \u001b[0mhx\u001b[0m\u001b[0;34m.\u001b[0m\u001b[0munsqueeze\u001b[0m\u001b[0;34m(\u001b[0m\u001b[0;36m1\u001b[0m\u001b[0;34m)\u001b[0m\u001b[0;34m\u001b[0m\u001b[0;34m\u001b[0m\u001b[0m\n\u001b[1;32m    922\u001b[0m             \u001b[0;32melse\u001b[0m\u001b[0;34m:\u001b[0m\u001b[0;34m\u001b[0m\u001b[0;34m\u001b[0m\u001b[0m\n\u001b[0;32m--> 923\u001b[0;31m                 \u001b[0;32mif\u001b[0m \u001b[0mhx\u001b[0m \u001b[0;32mis\u001b[0m \u001b[0;32mnot\u001b[0m \u001b[0;32mNone\u001b[0m \u001b[0;32mand\u001b[0m \u001b[0mhx\u001b[0m\u001b[0;34m.\u001b[0m\u001b[0mdim\u001b[0m\u001b[0;34m(\u001b[0m\u001b[0;34m)\u001b[0m \u001b[0;34m!=\u001b[0m \u001b[0;36m3\u001b[0m\u001b[0;34m:\u001b[0m\u001b[0;34m\u001b[0m\u001b[0;34m\u001b[0m\u001b[0m\n\u001b[0m\u001b[1;32m    924\u001b[0m                     raise RuntimeError(\n\u001b[1;32m    925\u001b[0m                         f\"For batched 3-D input, hx should also be 3-D but got {hx.dim()}-D tensor\")\n",
            "\u001b[0;31mKeyboardInterrupt\u001b[0m: "
          ]
        }
      ],
      "source": [
        "src_vocab, tgt_vocab, train_dataset_turn_left, test_loader_turn_left = prepare_data(path_train_turn_left, path_test_turn_left)\n",
        "# Turn left best GRU network with attention, one layer with 100 hidden units, and dropout of 0.1\n",
        "interpreter_turn_left = Interpreter(src_vocab, tgt_vocab, hidden_size=100, num_layers=1, attention=True, dropout=0.1, rnn_type=\"gru\")\n",
        "# train and evaluate\n",
        "interpreter_turn_left, losses_turn_left = train(interpreter_turn_left, train_dataset_turn_left)\n",
        "print(f\"Add prim turn left test accuracy: {evaluate(interpreter_turn_left, test_loader_turn_left)}\")\n",
        "\n",
        "plot_losses(losses_turn_left, \"Losses\", \"Epoch\", \"Loss\", fig_size = (8,5))\n",
        "\n",
        "# save results and losses\n",
        "date = datetime.datetime.now().strftime(\"%Y-%m-%d_%H-%M-%S\")\n",
        "acc_addprim_turn_left = evaluate(interpreter_turn_left, test_loader_turn_left)\n",
        "file_path = \"exp3_addprim_turn_left_acc\"+str(acc_addprim_turn_left)+\"_\"+date + \".npy\"\n",
        "np.save(file_path, losses_turn_left)\n",
        "\n",
        "# load results and losses\n",
        "#path = data_path+\"results/\" + (insert FILENAME)\n",
        "# losses_turn_left = np.load(path, allow_pickle=True)\n",
        "# plot_losses(losses_turn_left, \"Losses\", \"Epoch\", \"Loss\", fig_size = (8,5))\n"
      ]
    },
    {
      "cell_type": "markdown",
      "metadata": {
        "id": "yahK9pEpQxb2"
      },
      "source": [
        "\"We observe that even in the successful “turn left” case model errors are surprising. One would expect such errors to be randomly distributed, or perhaps to pertain to the longest commands or action sequences.\n",
        "\n",
        "Instead, all 45 errors made by the model are conjunctions where one of the components is simple “turn left” (22 cases) or “turn left thrice” (23 cases).\""
      ]
    },
    {
      "cell_type": "code",
      "execution_count": null,
      "metadata": {
        "id": "tvdKe0BFQxb3",
        "outputId": "89d40beb-a6f4-4fbd-f5f1-3fe393dcef60"
      },
      "outputs": [
        {
          "name": "stdout",
          "output_type": "stream",
          "text": [
            "Turn left model got 1208 wrong\n",
            "Jump model got 7706 wrong\n"
          ]
        }
      ],
      "source": [
        "def index(tensor, value, ith_match:int =0):\n",
        "    \"\"\"\n",
        "    Returns generalized index (i.e. location/coordinate) of the first occurence of value\n",
        "    in Tensor. For flat tensors (i.e. arrays/lists) it returns the indices of the occurrences\n",
        "    of the value you are looking for. Otherwise, it returns the \"index\" as a coordinate.\n",
        "    If there are multiple occurences then you need to choose which one you want with ith_index.\n",
        "    e.g. ith_index=0 gives first occurence.\n",
        "\n",
        "    Reference: https://stackoverflow.com/a/67175757/1601580\n",
        "    :return:\n",
        "    \"\"\"\n",
        "    # bool tensor of where value occurred\n",
        "    places_where_value_occurs = (tensor == value)\n",
        "    # get matches as a \"coordinate list\" where occurence happened\n",
        "    matches = (tensor == value).nonzero()  # [number_of_matches, tensor_dimension]\n",
        "    if matches.size(0) == 0:  # no matches\n",
        "        return -1\n",
        "    else:\n",
        "        # get index/coordinate of the occurence you want (e.g. 1st occurence ith_match=0)\n",
        "        index = matches[ith_match]\n",
        "        return index\n",
        "\n",
        "\n",
        "# get all examples that the turn left model got wrong\n",
        "wrong_turn_left = []\n",
        "for s, t in test_loader_turn_left:\n",
        "    # get output from decoder\n",
        "    pred = interpreter_turn_left.model(s, t)\n",
        "    if interpreter_turn_left.attention:\n",
        "        pred = pred[0]\n",
        "    # get argmax of output\n",
        "    pred = torch.argmax(pred, dim=2)\n",
        "    # loop over the batch\n",
        "    for i in range(len(pred)):\n",
        "        pred_i = pred[i]\n",
        "        t_i = t[i]\n",
        "        \n",
        "        if 2 in pred_i:\n",
        "            # find index of first <EOS> token\n",
        "            idx = index(pred_i, 2)\n",
        "            if idx != -1:\n",
        "                pred_i = pred_i[:idx]\n",
        "                t_i = t_i[:idx]\n",
        "        # print lengths\n",
        "        # Increment number of correct and total actions\n",
        "        if not torch.all(pred_i == t_i):\n",
        "            wrong_turn_left.append((s[i], t[i], pred[i]))\n",
        "               \n",
        "\n",
        "# get all examples that the jump model got wrong\n",
        "wrong_jump = []\n",
        "for s, t in test_loader_jump:\n",
        "    # get output from decoder\n",
        "    pred = interpreter_jump.model(s, t)\n",
        "    if interpreter_jump.attention:\n",
        "        pred = pred[0]\n",
        "    # get argmax of output\n",
        "    pred = torch.argmax(pred, dim=2)\n",
        "    # loop over the batch\n",
        "    for i in range(len(pred)):\n",
        "        pred_i = pred[i]\n",
        "        t_i = t[i]\n",
        "        \n",
        "        if 2 in pred_i:\n",
        "            # find index of first <EOS> token\n",
        "            idx = index(pred_i, 2)\n",
        "            if idx != -1:\n",
        "                pred_i = pred_i[:idx]\n",
        "                t_i = t_i[:idx]\n",
        "        # print lengths\n",
        "        # Increment number of correct and total actions\n",
        "        if not torch.all(pred_i == t_i):\n",
        "            wrong_jump.append((s[i], t[i], pred[i]))\n",
        "\n",
        "print(f\"Turn left model got {len(wrong_turn_left)} wrong\")\n",
        "# procentage\n",
        "print(f\"Turn left model got {len(wrong_turn_left)/len(test_loader_turn_left)} wrong\")\n",
        "\n",
        "print(f\"Jump model got {len(wrong_jump)} wrong\")\n",
        "# procentage\n",
        "print(f\"Jump model got {len(wrong_jump)/len(test_loader_jump)} wrong\")\n"
      ]
    }
  ],
  "metadata": {
    "accelerator": "GPU",
    "colab": {
      "provenance": [],
      "include_colab_link": true
    },
    "gpuClass": "premium",
    "kernelspec": {
      "display_name": "Python 3.9.7 64-bit",
      "language": "python",
      "name": "python3"
    },
    "language_info": {
      "codemirror_mode": {
        "name": "ipython",
        "version": 3
      },
      "file_extension": ".py",
      "mimetype": "text/x-python",
      "name": "python",
      "nbconvert_exporter": "python",
      "pygments_lexer": "ipython3",
      "version": "3.9.7"
    },
    "orig_nbformat": 4,
    "vscode": {
      "interpreter": {
        "hash": "aee8b7b246df8f9039afb4144a1f6fd8d2ca17a180786b69acc140d282b71a49"
      }
    },
    "widgets": {
      "application/vnd.jupyter.widget-state+json": {
        "08296975365542a3a7a6f2c8b59b5ca9": {
          "model_module": "@jupyter-widgets/controls",
          "model_module_version": "1.5.0",
          "model_name": "DescriptionStyleModel",
          "state": {
            "_model_module": "@jupyter-widgets/controls",
            "_model_module_version": "1.5.0",
            "_model_name": "DescriptionStyleModel",
            "_view_count": null,
            "_view_module": "@jupyter-widgets/base",
            "_view_module_version": "1.2.0",
            "_view_name": "StyleView",
            "description_width": ""
          }
        },
        "0eca3d3de3e84712a56a3ab51f59f79f": {
          "model_module": "@jupyter-widgets/base",
          "model_module_version": "1.2.0",
          "model_name": "LayoutModel",
          "state": {
            "_model_module": "@jupyter-widgets/base",
            "_model_module_version": "1.2.0",
            "_model_name": "LayoutModel",
            "_view_count": null,
            "_view_module": "@jupyter-widgets/base",
            "_view_module_version": "1.2.0",
            "_view_name": "LayoutView",
            "align_content": null,
            "align_items": null,
            "align_self": null,
            "border": null,
            "bottom": null,
            "display": null,
            "flex": null,
            "flex_flow": null,
            "grid_area": null,
            "grid_auto_columns": null,
            "grid_auto_flow": null,
            "grid_auto_rows": null,
            "grid_column": null,
            "grid_gap": null,
            "grid_row": null,
            "grid_template_areas": null,
            "grid_template_columns": null,
            "grid_template_rows": null,
            "height": null,
            "justify_content": null,
            "justify_items": null,
            "left": null,
            "margin": null,
            "max_height": null,
            "max_width": null,
            "min_height": null,
            "min_width": null,
            "object_fit": null,
            "object_position": null,
            "order": null,
            "overflow": null,
            "overflow_x": null,
            "overflow_y": null,
            "padding": null,
            "right": null,
            "top": null,
            "visibility": null,
            "width": null
          }
        },
        "27871d1f17214b18a6daedfe7fe62774": {
          "model_module": "@jupyter-widgets/controls",
          "model_module_version": "1.5.0",
          "model_name": "HTMLModel",
          "state": {
            "_dom_classes": [],
            "_model_module": "@jupyter-widgets/controls",
            "_model_module_version": "1.5.0",
            "_model_name": "HTMLModel",
            "_view_count": null,
            "_view_module": "@jupyter-widgets/controls",
            "_view_module_version": "1.5.0",
            "_view_name": "HTMLView",
            "description": "",
            "description_tooltip": null,
            "layout": "IPY_MODEL_4fabffe627364450986a0a9d3c762c0e",
            "placeholder": "​",
            "style": "IPY_MODEL_de33f40772dd4442899b81ab34192290",
            "value": "100%"
          }
        },
        "288ccae2658c4dd0b8292687d1e383f5": {
          "model_module": "@jupyter-widgets/base",
          "model_module_version": "1.2.0",
          "model_name": "LayoutModel",
          "state": {
            "_model_module": "@jupyter-widgets/base",
            "_model_module_version": "1.2.0",
            "_model_name": "LayoutModel",
            "_view_count": null,
            "_view_module": "@jupyter-widgets/base",
            "_view_module_version": "1.2.0",
            "_view_name": "LayoutView",
            "align_content": null,
            "align_items": null,
            "align_self": null,
            "border": null,
            "bottom": null,
            "display": null,
            "flex": null,
            "flex_flow": null,
            "grid_area": null,
            "grid_auto_columns": null,
            "grid_auto_flow": null,
            "grid_auto_rows": null,
            "grid_column": null,
            "grid_gap": null,
            "grid_row": null,
            "grid_template_areas": null,
            "grid_template_columns": null,
            "grid_template_rows": null,
            "height": null,
            "justify_content": null,
            "justify_items": null,
            "left": null,
            "margin": null,
            "max_height": null,
            "max_width": null,
            "min_height": null,
            "min_width": null,
            "object_fit": null,
            "object_position": null,
            "order": null,
            "overflow": null,
            "overflow_x": null,
            "overflow_y": null,
            "padding": null,
            "right": null,
            "top": null,
            "visibility": null,
            "width": null
          }
        },
        "2af692e485574c05805fd03a443b22a0": {
          "model_module": "@jupyter-widgets/controls",
          "model_module_version": "1.5.0",
          "model_name": "HBoxModel",
          "state": {
            "_dom_classes": [],
            "_model_module": "@jupyter-widgets/controls",
            "_model_module_version": "1.5.0",
            "_model_name": "HBoxModel",
            "_view_count": null,
            "_view_module": "@jupyter-widgets/controls",
            "_view_module_version": "1.5.0",
            "_view_name": "HBoxView",
            "box_style": "",
            "children": [
              "IPY_MODEL_27871d1f17214b18a6daedfe7fe62774",
              "IPY_MODEL_4a8d4a81fbd94fbb9b5216243da154bc",
              "IPY_MODEL_c297ce936f274db68822691368272f96"
            ],
            "layout": "IPY_MODEL_6ccc4b1bb22649448e91a95cb20492b5"
          }
        },
        "4a8d4a81fbd94fbb9b5216243da154bc": {
          "model_module": "@jupyter-widgets/controls",
          "model_module_version": "1.5.0",
          "model_name": "FloatProgressModel",
          "state": {
            "_dom_classes": [],
            "_model_module": "@jupyter-widgets/controls",
            "_model_module_version": "1.5.0",
            "_model_name": "FloatProgressModel",
            "_view_count": null,
            "_view_module": "@jupyter-widgets/controls",
            "_view_module_version": "1.5.0",
            "_view_name": "ProgressView",
            "bar_style": "success",
            "description": "",
            "description_tooltip": null,
            "layout": "IPY_MODEL_0eca3d3de3e84712a56a3ab51f59f79f",
            "max": 100000,
            "min": 0,
            "orientation": "horizontal",
            "style": "IPY_MODEL_adef26428b31495b92aebc056a9dcf38",
            "value": 100000
          }
        },
        "4fabffe627364450986a0a9d3c762c0e": {
          "model_module": "@jupyter-widgets/base",
          "model_module_version": "1.2.0",
          "model_name": "LayoutModel",
          "state": {
            "_model_module": "@jupyter-widgets/base",
            "_model_module_version": "1.2.0",
            "_model_name": "LayoutModel",
            "_view_count": null,
            "_view_module": "@jupyter-widgets/base",
            "_view_module_version": "1.2.0",
            "_view_name": "LayoutView",
            "align_content": null,
            "align_items": null,
            "align_self": null,
            "border": null,
            "bottom": null,
            "display": null,
            "flex": null,
            "flex_flow": null,
            "grid_area": null,
            "grid_auto_columns": null,
            "grid_auto_flow": null,
            "grid_auto_rows": null,
            "grid_column": null,
            "grid_gap": null,
            "grid_row": null,
            "grid_template_areas": null,
            "grid_template_columns": null,
            "grid_template_rows": null,
            "height": null,
            "justify_content": null,
            "justify_items": null,
            "left": null,
            "margin": null,
            "max_height": null,
            "max_width": null,
            "min_height": null,
            "min_width": null,
            "object_fit": null,
            "object_position": null,
            "order": null,
            "overflow": null,
            "overflow_x": null,
            "overflow_y": null,
            "padding": null,
            "right": null,
            "top": null,
            "visibility": null,
            "width": null
          }
        },
        "6ccc4b1bb22649448e91a95cb20492b5": {
          "model_module": "@jupyter-widgets/base",
          "model_module_version": "1.2.0",
          "model_name": "LayoutModel",
          "state": {
            "_model_module": "@jupyter-widgets/base",
            "_model_module_version": "1.2.0",
            "_model_name": "LayoutModel",
            "_view_count": null,
            "_view_module": "@jupyter-widgets/base",
            "_view_module_version": "1.2.0",
            "_view_name": "LayoutView",
            "align_content": null,
            "align_items": null,
            "align_self": null,
            "border": null,
            "bottom": null,
            "display": null,
            "flex": null,
            "flex_flow": null,
            "grid_area": null,
            "grid_auto_columns": null,
            "grid_auto_flow": null,
            "grid_auto_rows": null,
            "grid_column": null,
            "grid_gap": null,
            "grid_row": null,
            "grid_template_areas": null,
            "grid_template_columns": null,
            "grid_template_rows": null,
            "height": null,
            "justify_content": null,
            "justify_items": null,
            "left": null,
            "margin": null,
            "max_height": null,
            "max_width": null,
            "min_height": null,
            "min_width": null,
            "object_fit": null,
            "object_position": null,
            "order": null,
            "overflow": null,
            "overflow_x": null,
            "overflow_y": null,
            "padding": null,
            "right": null,
            "top": null,
            "visibility": null,
            "width": null
          }
        },
        "adef26428b31495b92aebc056a9dcf38": {
          "model_module": "@jupyter-widgets/controls",
          "model_module_version": "1.5.0",
          "model_name": "ProgressStyleModel",
          "state": {
            "_model_module": "@jupyter-widgets/controls",
            "_model_module_version": "1.5.0",
            "_model_name": "ProgressStyleModel",
            "_view_count": null,
            "_view_module": "@jupyter-widgets/base",
            "_view_module_version": "1.2.0",
            "_view_name": "StyleView",
            "bar_color": null,
            "description_width": ""
          }
        },
        "c297ce936f274db68822691368272f96": {
          "model_module": "@jupyter-widgets/controls",
          "model_module_version": "1.5.0",
          "model_name": "HTMLModel",
          "state": {
            "_dom_classes": [],
            "_model_module": "@jupyter-widgets/controls",
            "_model_module_version": "1.5.0",
            "_model_name": "HTMLModel",
            "_view_count": null,
            "_view_module": "@jupyter-widgets/controls",
            "_view_module_version": "1.5.0",
            "_view_name": "HTMLView",
            "description": "",
            "description_tooltip": null,
            "layout": "IPY_MODEL_288ccae2658c4dd0b8292687d1e383f5",
            "placeholder": "​",
            "style": "IPY_MODEL_08296975365542a3a7a6f2c8b59b5ca9",
            "value": " 100000/100000 [02:20&lt;00:00, 683.81it/s, loss=0.187, train_accuracy=0]"
          }
        },
        "de33f40772dd4442899b81ab34192290": {
          "model_module": "@jupyter-widgets/controls",
          "model_module_version": "1.5.0",
          "model_name": "DescriptionStyleModel",
          "state": {
            "_model_module": "@jupyter-widgets/controls",
            "_model_module_version": "1.5.0",
            "_model_name": "DescriptionStyleModel",
            "_view_count": null,
            "_view_module": "@jupyter-widgets/base",
            "_view_module_version": "1.2.0",
            "_view_name": "StyleView",
            "description_width": ""
          }
        },
        "41f3890d3030466587a664a2cebee1fb": {
          "model_module": "@jupyter-widgets/controls",
          "model_name": "HBoxModel",
          "model_module_version": "1.5.0",
          "state": {
            "_dom_classes": [],
            "_model_module": "@jupyter-widgets/controls",
            "_model_module_version": "1.5.0",
            "_model_name": "HBoxModel",
            "_view_count": null,
            "_view_module": "@jupyter-widgets/controls",
            "_view_module_version": "1.5.0",
            "_view_name": "HBoxView",
            "box_style": "",
            "children": [
              "IPY_MODEL_70bf66978e654483852ca1ad45f87446",
              "IPY_MODEL_be5f6588a6224bd39bedc25a13e0c007",
              "IPY_MODEL_0a38cd7e1db54d96bab65351cd03b97e"
            ],
            "layout": "IPY_MODEL_90c145a8a1ee4da9a99e64f3f6120d1f"
          }
        },
        "70bf66978e654483852ca1ad45f87446": {
          "model_module": "@jupyter-widgets/controls",
          "model_name": "HTMLModel",
          "model_module_version": "1.5.0",
          "state": {
            "_dom_classes": [],
            "_model_module": "@jupyter-widgets/controls",
            "_model_module_version": "1.5.0",
            "_model_name": "HTMLModel",
            "_view_count": null,
            "_view_module": "@jupyter-widgets/controls",
            "_view_module_version": "1.5.0",
            "_view_name": "HTMLView",
            "description": "",
            "description_tooltip": null,
            "layout": "IPY_MODEL_fb05b66878084619a4fed99acb9f8791",
            "placeholder": "​",
            "style": "IPY_MODEL_345d00c877804435a1c2397764c80671",
            "value": "100%"
          }
        },
        "be5f6588a6224bd39bedc25a13e0c007": {
          "model_module": "@jupyter-widgets/controls",
          "model_name": "FloatProgressModel",
          "model_module_version": "1.5.0",
          "state": {
            "_dom_classes": [],
            "_model_module": "@jupyter-widgets/controls",
            "_model_module_version": "1.5.0",
            "_model_name": "FloatProgressModel",
            "_view_count": null,
            "_view_module": "@jupyter-widgets/controls",
            "_view_module_version": "1.5.0",
            "_view_name": "ProgressView",
            "bar_style": "success",
            "description": "",
            "description_tooltip": null,
            "layout": "IPY_MODEL_c8cc4059d8ea4f66bb283658297797f6",
            "max": 100000,
            "min": 0,
            "orientation": "horizontal",
            "style": "IPY_MODEL_fd04ff57aaf240a5984eee7114b8b316",
            "value": 100000
          }
        },
        "0a38cd7e1db54d96bab65351cd03b97e": {
          "model_module": "@jupyter-widgets/controls",
          "model_name": "HTMLModel",
          "model_module_version": "1.5.0",
          "state": {
            "_dom_classes": [],
            "_model_module": "@jupyter-widgets/controls",
            "_model_module_version": "1.5.0",
            "_model_name": "HTMLModel",
            "_view_count": null,
            "_view_module": "@jupyter-widgets/controls",
            "_view_module_version": "1.5.0",
            "_view_name": "HTMLView",
            "description": "",
            "description_tooltip": null,
            "layout": "IPY_MODEL_8c99b14769b548fca39b55d43d240445",
            "placeholder": "​",
            "style": "IPY_MODEL_24e4ef9505de4a349033e56f0633a58e",
            "value": " 100000/100000 [59:29&lt;00:00, 24.88it/s, loss=0.0963]"
          }
        },
        "90c145a8a1ee4da9a99e64f3f6120d1f": {
          "model_module": "@jupyter-widgets/base",
          "model_name": "LayoutModel",
          "model_module_version": "1.2.0",
          "state": {
            "_model_module": "@jupyter-widgets/base",
            "_model_module_version": "1.2.0",
            "_model_name": "LayoutModel",
            "_view_count": null,
            "_view_module": "@jupyter-widgets/base",
            "_view_module_version": "1.2.0",
            "_view_name": "LayoutView",
            "align_content": null,
            "align_items": null,
            "align_self": null,
            "border": null,
            "bottom": null,
            "display": null,
            "flex": null,
            "flex_flow": null,
            "grid_area": null,
            "grid_auto_columns": null,
            "grid_auto_flow": null,
            "grid_auto_rows": null,
            "grid_column": null,
            "grid_gap": null,
            "grid_row": null,
            "grid_template_areas": null,
            "grid_template_columns": null,
            "grid_template_rows": null,
            "height": null,
            "justify_content": null,
            "justify_items": null,
            "left": null,
            "margin": null,
            "max_height": null,
            "max_width": null,
            "min_height": null,
            "min_width": null,
            "object_fit": null,
            "object_position": null,
            "order": null,
            "overflow": null,
            "overflow_x": null,
            "overflow_y": null,
            "padding": null,
            "right": null,
            "top": null,
            "visibility": null,
            "width": null
          }
        },
        "fb05b66878084619a4fed99acb9f8791": {
          "model_module": "@jupyter-widgets/base",
          "model_name": "LayoutModel",
          "model_module_version": "1.2.0",
          "state": {
            "_model_module": "@jupyter-widgets/base",
            "_model_module_version": "1.2.0",
            "_model_name": "LayoutModel",
            "_view_count": null,
            "_view_module": "@jupyter-widgets/base",
            "_view_module_version": "1.2.0",
            "_view_name": "LayoutView",
            "align_content": null,
            "align_items": null,
            "align_self": null,
            "border": null,
            "bottom": null,
            "display": null,
            "flex": null,
            "flex_flow": null,
            "grid_area": null,
            "grid_auto_columns": null,
            "grid_auto_flow": null,
            "grid_auto_rows": null,
            "grid_column": null,
            "grid_gap": null,
            "grid_row": null,
            "grid_template_areas": null,
            "grid_template_columns": null,
            "grid_template_rows": null,
            "height": null,
            "justify_content": null,
            "justify_items": null,
            "left": null,
            "margin": null,
            "max_height": null,
            "max_width": null,
            "min_height": null,
            "min_width": null,
            "object_fit": null,
            "object_position": null,
            "order": null,
            "overflow": null,
            "overflow_x": null,
            "overflow_y": null,
            "padding": null,
            "right": null,
            "top": null,
            "visibility": null,
            "width": null
          }
        },
        "345d00c877804435a1c2397764c80671": {
          "model_module": "@jupyter-widgets/controls",
          "model_name": "DescriptionStyleModel",
          "model_module_version": "1.5.0",
          "state": {
            "_model_module": "@jupyter-widgets/controls",
            "_model_module_version": "1.5.0",
            "_model_name": "DescriptionStyleModel",
            "_view_count": null,
            "_view_module": "@jupyter-widgets/base",
            "_view_module_version": "1.2.0",
            "_view_name": "StyleView",
            "description_width": ""
          }
        },
        "c8cc4059d8ea4f66bb283658297797f6": {
          "model_module": "@jupyter-widgets/base",
          "model_name": "LayoutModel",
          "model_module_version": "1.2.0",
          "state": {
            "_model_module": "@jupyter-widgets/base",
            "_model_module_version": "1.2.0",
            "_model_name": "LayoutModel",
            "_view_count": null,
            "_view_module": "@jupyter-widgets/base",
            "_view_module_version": "1.2.0",
            "_view_name": "LayoutView",
            "align_content": null,
            "align_items": null,
            "align_self": null,
            "border": null,
            "bottom": null,
            "display": null,
            "flex": null,
            "flex_flow": null,
            "grid_area": null,
            "grid_auto_columns": null,
            "grid_auto_flow": null,
            "grid_auto_rows": null,
            "grid_column": null,
            "grid_gap": null,
            "grid_row": null,
            "grid_template_areas": null,
            "grid_template_columns": null,
            "grid_template_rows": null,
            "height": null,
            "justify_content": null,
            "justify_items": null,
            "left": null,
            "margin": null,
            "max_height": null,
            "max_width": null,
            "min_height": null,
            "min_width": null,
            "object_fit": null,
            "object_position": null,
            "order": null,
            "overflow": null,
            "overflow_x": null,
            "overflow_y": null,
            "padding": null,
            "right": null,
            "top": null,
            "visibility": null,
            "width": null
          }
        },
        "fd04ff57aaf240a5984eee7114b8b316": {
          "model_module": "@jupyter-widgets/controls",
          "model_name": "ProgressStyleModel",
          "model_module_version": "1.5.0",
          "state": {
            "_model_module": "@jupyter-widgets/controls",
            "_model_module_version": "1.5.0",
            "_model_name": "ProgressStyleModel",
            "_view_count": null,
            "_view_module": "@jupyter-widgets/base",
            "_view_module_version": "1.2.0",
            "_view_name": "StyleView",
            "bar_color": null,
            "description_width": ""
          }
        },
        "8c99b14769b548fca39b55d43d240445": {
          "model_module": "@jupyter-widgets/base",
          "model_name": "LayoutModel",
          "model_module_version": "1.2.0",
          "state": {
            "_model_module": "@jupyter-widgets/base",
            "_model_module_version": "1.2.0",
            "_model_name": "LayoutModel",
            "_view_count": null,
            "_view_module": "@jupyter-widgets/base",
            "_view_module_version": "1.2.0",
            "_view_name": "LayoutView",
            "align_content": null,
            "align_items": null,
            "align_self": null,
            "border": null,
            "bottom": null,
            "display": null,
            "flex": null,
            "flex_flow": null,
            "grid_area": null,
            "grid_auto_columns": null,
            "grid_auto_flow": null,
            "grid_auto_rows": null,
            "grid_column": null,
            "grid_gap": null,
            "grid_row": null,
            "grid_template_areas": null,
            "grid_template_columns": null,
            "grid_template_rows": null,
            "height": null,
            "justify_content": null,
            "justify_items": null,
            "left": null,
            "margin": null,
            "max_height": null,
            "max_width": null,
            "min_height": null,
            "min_width": null,
            "object_fit": null,
            "object_position": null,
            "order": null,
            "overflow": null,
            "overflow_x": null,
            "overflow_y": null,
            "padding": null,
            "right": null,
            "top": null,
            "visibility": null,
            "width": null
          }
        },
        "24e4ef9505de4a349033e56f0633a58e": {
          "model_module": "@jupyter-widgets/controls",
          "model_name": "DescriptionStyleModel",
          "model_module_version": "1.5.0",
          "state": {
            "_model_module": "@jupyter-widgets/controls",
            "_model_module_version": "1.5.0",
            "_model_name": "DescriptionStyleModel",
            "_view_count": null,
            "_view_module": "@jupyter-widgets/base",
            "_view_module_version": "1.2.0",
            "_view_name": "StyleView",
            "description_width": ""
          }
        },
        "f04d2fb78df04f06a50fce55f998188e": {
          "model_module": "@jupyter-widgets/controls",
          "model_name": "HBoxModel",
          "model_module_version": "1.5.0",
          "state": {
            "_dom_classes": [],
            "_model_module": "@jupyter-widgets/controls",
            "_model_module_version": "1.5.0",
            "_model_name": "HBoxModel",
            "_view_count": null,
            "_view_module": "@jupyter-widgets/controls",
            "_view_module_version": "1.5.0",
            "_view_name": "HBoxView",
            "box_style": "",
            "children": [
              "IPY_MODEL_b5ecea68a7cc410688e92086e83a418e",
              "IPY_MODEL_6c716055fe0a4f01a98d4f4f609a00d5",
              "IPY_MODEL_017767590fa04a01945bb57fe40428fe"
            ],
            "layout": "IPY_MODEL_4929f926a08b4ac7adbcdd078265702c"
          }
        },
        "b5ecea68a7cc410688e92086e83a418e": {
          "model_module": "@jupyter-widgets/controls",
          "model_name": "HTMLModel",
          "model_module_version": "1.5.0",
          "state": {
            "_dom_classes": [],
            "_model_module": "@jupyter-widgets/controls",
            "_model_module_version": "1.5.0",
            "_model_name": "HTMLModel",
            "_view_count": null,
            "_view_module": "@jupyter-widgets/controls",
            "_view_module_version": "1.5.0",
            "_view_name": "HTMLView",
            "description": "",
            "description_tooltip": null,
            "layout": "IPY_MODEL_cc5411fb20504f299695931184a8bd0c",
            "placeholder": "​",
            "style": "IPY_MODEL_de39d9ceaa7a474ca6b09d1715703c5b",
            "value": "100%"
          }
        },
        "6c716055fe0a4f01a98d4f4f609a00d5": {
          "model_module": "@jupyter-widgets/controls",
          "model_name": "FloatProgressModel",
          "model_module_version": "1.5.0",
          "state": {
            "_dom_classes": [],
            "_model_module": "@jupyter-widgets/controls",
            "_model_module_version": "1.5.0",
            "_model_name": "FloatProgressModel",
            "_view_count": null,
            "_view_module": "@jupyter-widgets/controls",
            "_view_module_version": "1.5.0",
            "_view_name": "ProgressView",
            "bar_style": "success",
            "description": "",
            "description_tooltip": null,
            "layout": "IPY_MODEL_50c7f1b531ff4f3e8659fece623315b8",
            "max": 100000,
            "min": 0,
            "orientation": "horizontal",
            "style": "IPY_MODEL_b812fbc57f6b4d49b8b379a22ffc71a1",
            "value": 100000
          }
        },
        "017767590fa04a01945bb57fe40428fe": {
          "model_module": "@jupyter-widgets/controls",
          "model_name": "HTMLModel",
          "model_module_version": "1.5.0",
          "state": {
            "_dom_classes": [],
            "_model_module": "@jupyter-widgets/controls",
            "_model_module_version": "1.5.0",
            "_model_name": "HTMLModel",
            "_view_count": null,
            "_view_module": "@jupyter-widgets/controls",
            "_view_module_version": "1.5.0",
            "_view_name": "HTMLView",
            "description": "",
            "description_tooltip": null,
            "layout": "IPY_MODEL_a1f1a4b8240740249c11608f7f587853",
            "placeholder": "​",
            "style": "IPY_MODEL_a1b2afd7647346ecac4e294497efdfcb",
            "value": " 100000/100000 [26:44&lt;00:00, 55.00it/s, loss=0.0479]"
          }
        },
        "4929f926a08b4ac7adbcdd078265702c": {
          "model_module": "@jupyter-widgets/base",
          "model_name": "LayoutModel",
          "model_module_version": "1.2.0",
          "state": {
            "_model_module": "@jupyter-widgets/base",
            "_model_module_version": "1.2.0",
            "_model_name": "LayoutModel",
            "_view_count": null,
            "_view_module": "@jupyter-widgets/base",
            "_view_module_version": "1.2.0",
            "_view_name": "LayoutView",
            "align_content": null,
            "align_items": null,
            "align_self": null,
            "border": null,
            "bottom": null,
            "display": null,
            "flex": null,
            "flex_flow": null,
            "grid_area": null,
            "grid_auto_columns": null,
            "grid_auto_flow": null,
            "grid_auto_rows": null,
            "grid_column": null,
            "grid_gap": null,
            "grid_row": null,
            "grid_template_areas": null,
            "grid_template_columns": null,
            "grid_template_rows": null,
            "height": null,
            "justify_content": null,
            "justify_items": null,
            "left": null,
            "margin": null,
            "max_height": null,
            "max_width": null,
            "min_height": null,
            "min_width": null,
            "object_fit": null,
            "object_position": null,
            "order": null,
            "overflow": null,
            "overflow_x": null,
            "overflow_y": null,
            "padding": null,
            "right": null,
            "top": null,
            "visibility": null,
            "width": null
          }
        },
        "cc5411fb20504f299695931184a8bd0c": {
          "model_module": "@jupyter-widgets/base",
          "model_name": "LayoutModel",
          "model_module_version": "1.2.0",
          "state": {
            "_model_module": "@jupyter-widgets/base",
            "_model_module_version": "1.2.0",
            "_model_name": "LayoutModel",
            "_view_count": null,
            "_view_module": "@jupyter-widgets/base",
            "_view_module_version": "1.2.0",
            "_view_name": "LayoutView",
            "align_content": null,
            "align_items": null,
            "align_self": null,
            "border": null,
            "bottom": null,
            "display": null,
            "flex": null,
            "flex_flow": null,
            "grid_area": null,
            "grid_auto_columns": null,
            "grid_auto_flow": null,
            "grid_auto_rows": null,
            "grid_column": null,
            "grid_gap": null,
            "grid_row": null,
            "grid_template_areas": null,
            "grid_template_columns": null,
            "grid_template_rows": null,
            "height": null,
            "justify_content": null,
            "justify_items": null,
            "left": null,
            "margin": null,
            "max_height": null,
            "max_width": null,
            "min_height": null,
            "min_width": null,
            "object_fit": null,
            "object_position": null,
            "order": null,
            "overflow": null,
            "overflow_x": null,
            "overflow_y": null,
            "padding": null,
            "right": null,
            "top": null,
            "visibility": null,
            "width": null
          }
        },
        "de39d9ceaa7a474ca6b09d1715703c5b": {
          "model_module": "@jupyter-widgets/controls",
          "model_name": "DescriptionStyleModel",
          "model_module_version": "1.5.0",
          "state": {
            "_model_module": "@jupyter-widgets/controls",
            "_model_module_version": "1.5.0",
            "_model_name": "DescriptionStyleModel",
            "_view_count": null,
            "_view_module": "@jupyter-widgets/base",
            "_view_module_version": "1.2.0",
            "_view_name": "StyleView",
            "description_width": ""
          }
        },
        "50c7f1b531ff4f3e8659fece623315b8": {
          "model_module": "@jupyter-widgets/base",
          "model_name": "LayoutModel",
          "model_module_version": "1.2.0",
          "state": {
            "_model_module": "@jupyter-widgets/base",
            "_model_module_version": "1.2.0",
            "_model_name": "LayoutModel",
            "_view_count": null,
            "_view_module": "@jupyter-widgets/base",
            "_view_module_version": "1.2.0",
            "_view_name": "LayoutView",
            "align_content": null,
            "align_items": null,
            "align_self": null,
            "border": null,
            "bottom": null,
            "display": null,
            "flex": null,
            "flex_flow": null,
            "grid_area": null,
            "grid_auto_columns": null,
            "grid_auto_flow": null,
            "grid_auto_rows": null,
            "grid_column": null,
            "grid_gap": null,
            "grid_row": null,
            "grid_template_areas": null,
            "grid_template_columns": null,
            "grid_template_rows": null,
            "height": null,
            "justify_content": null,
            "justify_items": null,
            "left": null,
            "margin": null,
            "max_height": null,
            "max_width": null,
            "min_height": null,
            "min_width": null,
            "object_fit": null,
            "object_position": null,
            "order": null,
            "overflow": null,
            "overflow_x": null,
            "overflow_y": null,
            "padding": null,
            "right": null,
            "top": null,
            "visibility": null,
            "width": null
          }
        },
        "b812fbc57f6b4d49b8b379a22ffc71a1": {
          "model_module": "@jupyter-widgets/controls",
          "model_name": "ProgressStyleModel",
          "model_module_version": "1.5.0",
          "state": {
            "_model_module": "@jupyter-widgets/controls",
            "_model_module_version": "1.5.0",
            "_model_name": "ProgressStyleModel",
            "_view_count": null,
            "_view_module": "@jupyter-widgets/base",
            "_view_module_version": "1.2.0",
            "_view_name": "StyleView",
            "bar_color": null,
            "description_width": ""
          }
        },
        "a1f1a4b8240740249c11608f7f587853": {
          "model_module": "@jupyter-widgets/base",
          "model_name": "LayoutModel",
          "model_module_version": "1.2.0",
          "state": {
            "_model_module": "@jupyter-widgets/base",
            "_model_module_version": "1.2.0",
            "_model_name": "LayoutModel",
            "_view_count": null,
            "_view_module": "@jupyter-widgets/base",
            "_view_module_version": "1.2.0",
            "_view_name": "LayoutView",
            "align_content": null,
            "align_items": null,
            "align_self": null,
            "border": null,
            "bottom": null,
            "display": null,
            "flex": null,
            "flex_flow": null,
            "grid_area": null,
            "grid_auto_columns": null,
            "grid_auto_flow": null,
            "grid_auto_rows": null,
            "grid_column": null,
            "grid_gap": null,
            "grid_row": null,
            "grid_template_areas": null,
            "grid_template_columns": null,
            "grid_template_rows": null,
            "height": null,
            "justify_content": null,
            "justify_items": null,
            "left": null,
            "margin": null,
            "max_height": null,
            "max_width": null,
            "min_height": null,
            "min_width": null,
            "object_fit": null,
            "object_position": null,
            "order": null,
            "overflow": null,
            "overflow_x": null,
            "overflow_y": null,
            "padding": null,
            "right": null,
            "top": null,
            "visibility": null,
            "width": null
          }
        },
        "a1b2afd7647346ecac4e294497efdfcb": {
          "model_module": "@jupyter-widgets/controls",
          "model_name": "DescriptionStyleModel",
          "model_module_version": "1.5.0",
          "state": {
            "_model_module": "@jupyter-widgets/controls",
            "_model_module_version": "1.5.0",
            "_model_name": "DescriptionStyleModel",
            "_view_count": null,
            "_view_module": "@jupyter-widgets/base",
            "_view_module_version": "1.2.0",
            "_view_name": "StyleView",
            "description_width": ""
          }
        }
      }
    }
  },
  "nbformat": 4,
  "nbformat_minor": 0
}